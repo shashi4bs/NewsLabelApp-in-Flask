{
 "cells": [
  {
   "cell_type": "code",
   "execution_count": 1,
   "metadata": {},
   "outputs": [],
   "source": [
    "from lib import *\n",
    "from features import *"
   ]
  },
  {
   "cell_type": "markdown",
   "metadata": {},
   "source": [
    "# importing data"
   ]
  },
  {
   "cell_type": "code",
   "execution_count": 2,
   "metadata": {},
   "outputs": [],
   "source": [
    "data = pd.read_csv('./train_data.csv')"
   ]
  },
  {
   "cell_type": "code",
   "execution_count": 3,
   "metadata": {},
   "outputs": [
    {
     "data": {
      "text/plain": [
       "(84484, 3)"
      ]
     },
     "execution_count": 3,
     "metadata": {},
     "output_type": "execute_result"
    }
   ],
   "source": [
    "data = data.sample(frac=0.4).reset_index(drop=True)\n",
    "size = data.shape\n",
    "size"
   ]
  },
  {
   "cell_type": "markdown",
   "metadata": {},
   "source": [
    "# Data Visualisation\n",
    "#showing data distribution over the four categories of headlines\n",
    "m-Medical\n",
    "e-Entertainment\n",
    "b-Bussiness\n",
    "t-Tech"
   ]
  },
  {
   "cell_type": "code",
   "execution_count": 4,
   "metadata": {
    "scrolled": true
   },
   "outputs": [
    {
     "data": {
      "text/plain": [
       "(array([30443.,     0.,     0., 21516.,     0.,     0., 23300.,     0.,\n",
       "            0.,  9225.]),\n",
       " array([0. , 0.3, 0.6, 0.9, 1.2, 1.5, 1.8, 2.1, 2.4, 2.7, 3. ]),\n",
       " <a list of 10 Patch objects>)"
      ]
     },
     "execution_count": 4,
     "metadata": {},
     "output_type": "execute_result"
    },
    {
     "data": {
      "image/png": "[encoded data removed]",
      "text/plain": [
       "<Figure size 432x288 with 1 Axes>"
      ]
     },
     "metadata": {
      "needs_background": "light"
     },
     "output_type": "display_data"
    }
   ],
   "source": [
    "plt.hist(data.CATEGORY.factorize()[0])"
   ]
  },
  {
   "cell_type": "markdown",
   "metadata": {},
   "source": [
    "# Data  samples"
   ]
  },
  {
   "cell_type": "code",
   "execution_count": 5,
   "metadata": {},
   "outputs": [
    {
     "data": {
      "text/html": [
       "<div>\n",
       "<style scoped>\n",
       "    .dataframe tbody tr th:only-of-type {\n",
       "        vertical-align: middle;\n",
       "    }\n",
       "\n",
       "    .dataframe tbody tr th {\n",
       "        vertical-align: top;\n",
       "    }\n",
       "\n",
       "    .dataframe thead th {\n",
       "        text-align: right;\n",
       "    }\n",
       "</style>\n",
       "<table border=\"1\" class=\"dataframe\">\n",
       "  <thead>\n",
       "    <tr style=\"text-align: right;\">\n",
       "      <th></th>\n",
       "      <th>ID</th>\n",
       "      <th>TITLE</th>\n",
       "      <th>CATEGORY</th>\n",
       "    </tr>\n",
       "  </thead>\n",
       "  <tbody>\n",
       "    <tr>\n",
       "      <th>0</th>\n",
       "      <td>103638</td>\n",
       "      <td>Spider-Man premiere: Andrew Garfield admits he...</td>\n",
       "      <td>e</td>\n",
       "    </tr>\n",
       "    <tr>\n",
       "      <th>1</th>\n",
       "      <td>358964</td>\n",
       "      <td>'Dawn of the Planet of the Apes' brings new wr...</td>\n",
       "      <td>e</td>\n",
       "    </tr>\n",
       "    <tr>\n",
       "      <th>2</th>\n",
       "      <td>19643</td>\n",
       "      <td>Trailer Released: Angelina Jolie Starring in D...</td>\n",
       "      <td>e</td>\n",
       "    </tr>\n",
       "    <tr>\n",
       "      <th>3</th>\n",
       "      <td>291436</td>\n",
       "      <td>Samsung Galaxy Core 2 and Pocket 2 dual-SIMs leak</td>\n",
       "      <td>t</td>\n",
       "    </tr>\n",
       "    <tr>\n",
       "      <th>4</th>\n",
       "      <td>205356</td>\n",
       "      <td>Updates to Skype for modern Windows benefits m...</td>\n",
       "      <td>t</td>\n",
       "    </tr>\n",
       "  </tbody>\n",
       "</table>\n",
       "</div>"
      ],
      "text/plain": [
       "       ID                                              TITLE CATEGORY\n",
       "0  103638  Spider-Man premiere: Andrew Garfield admits he...        e\n",
       "1  358964  'Dawn of the Planet of the Apes' brings new wr...        e\n",
       "2   19643  Trailer Released: Angelina Jolie Starring in D...        e\n",
       "3  291436  Samsung Galaxy Core 2 and Pocket 2 dual-SIMs leak        t\n",
       "4  205356  Updates to Skype for modern Windows benefits m...        t"
      ]
     },
     "execution_count": 5,
     "metadata": {},
     "output_type": "execute_result"
    }
   ],
   "source": [
    "data.head()"
   ]
  },
  {
   "cell_type": "code",
   "execution_count": 6,
   "metadata": {},
   "outputs": [],
   "source": [
    "#for line,i in zip(data['TITLE'],range(data['TITLE'].shape[0])):\n",
    "#    data.loc[i,('TITLE')] = normalise_text(line)"
   ]
  },
  {
   "cell_type": "code",
   "execution_count": 7,
   "metadata": {},
   "outputs": [
    {
     "data": {
      "text/html": [
       "<div>\n",
       "<style scoped>\n",
       "    .dataframe tbody tr th:only-of-type {\n",
       "        vertical-align: middle;\n",
       "    }\n",
       "\n",
       "    .dataframe tbody tr th {\n",
       "        vertical-align: top;\n",
       "    }\n",
       "\n",
       "    .dataframe thead th {\n",
       "        text-align: right;\n",
       "    }\n",
       "</style>\n",
       "<table border=\"1\" class=\"dataframe\">\n",
       "  <thead>\n",
       "    <tr style=\"text-align: right;\">\n",
       "      <th></th>\n",
       "      <th>ID</th>\n",
       "      <th>TITLE</th>\n",
       "      <th>CATEGORY</th>\n",
       "    </tr>\n",
       "  </thead>\n",
       "  <tbody>\n",
       "    <tr>\n",
       "      <th>0</th>\n",
       "      <td>103638</td>\n",
       "      <td>Spider-Man premiere: Andrew Garfield admits he...</td>\n",
       "      <td>e</td>\n",
       "    </tr>\n",
       "    <tr>\n",
       "      <th>1</th>\n",
       "      <td>358964</td>\n",
       "      <td>'Dawn of the Planet of the Apes' brings new wr...</td>\n",
       "      <td>e</td>\n",
       "    </tr>\n",
       "    <tr>\n",
       "      <th>2</th>\n",
       "      <td>19643</td>\n",
       "      <td>Trailer Released: Angelina Jolie Starring in D...</td>\n",
       "      <td>e</td>\n",
       "    </tr>\n",
       "    <tr>\n",
       "      <th>3</th>\n",
       "      <td>291436</td>\n",
       "      <td>Samsung Galaxy Core 2 and Pocket 2 dual-SIMs leak</td>\n",
       "      <td>t</td>\n",
       "    </tr>\n",
       "    <tr>\n",
       "      <th>4</th>\n",
       "      <td>205356</td>\n",
       "      <td>Updates to Skype for modern Windows benefits m...</td>\n",
       "      <td>t</td>\n",
       "    </tr>\n",
       "  </tbody>\n",
       "</table>\n",
       "</div>"
      ],
      "text/plain": [
       "       ID                                              TITLE CATEGORY\n",
       "0  103638  Spider-Man premiere: Andrew Garfield admits he...        e\n",
       "1  358964  'Dawn of the Planet of the Apes' brings new wr...        e\n",
       "2   19643  Trailer Released: Angelina Jolie Starring in D...        e\n",
       "3  291436  Samsung Galaxy Core 2 and Pocket 2 dual-SIMs leak        t\n",
       "4  205356  Updates to Skype for modern Windows benefits m...        t"
      ]
     },
     "execution_count": 7,
     "metadata": {},
     "output_type": "execute_result"
    }
   ],
   "source": [
    "data.head()"
   ]
  },
  {
   "cell_type": "code",
   "execution_count": 10,
   "metadata": {},
   "outputs": [],
   "source": [
    "data = pd.read_csv('NormalizedText.csv')"
   ]
  },
  {
   "cell_type": "code",
   "execution_count": 14,
   "metadata": {},
   "outputs": [],
   "source": [
    "data = data.dropna()"
   ]
  },
  {
   "cell_type": "code",
   "execution_count": 15,
   "metadata": {},
   "outputs": [],
   "source": [
    "cv_matrix, cv = countVectorizer(data)"
   ]
  },
  {
   "cell_type": "code",
   "execution_count": 16,
   "metadata": {},
   "outputs": [],
   "source": [
    "tv_matrix, tv = tfidfTransformer(cv_matrix)"
   ]
  },
  {
   "cell_type": "code",
   "execution_count": 17,
   "metadata": {},
   "outputs": [],
   "source": [
    "categories = data.CATEGORY.factorize()[0]"
   ]
  },
  {
   "cell_type": "code",
   "execution_count": 18,
   "metadata": {},
   "outputs": [],
   "source": [
    "\n",
    "training_data, testing_data, training_op, test_op = split_data(tv_matrix,categories)"
   ]
  },
  {
   "cell_type": "code",
   "execution_count": 22,
   "metadata": {},
   "outputs": [],
   "source": [
    "from sklearn.naive_bayes import BernoulliNB\n",
    "model = BernoulliNB(alpha=1.0, binarize=0.0)"
   ]
  },
  {
   "cell_type": "code",
   "execution_count": 24,
   "metadata": {},
   "outputs": [],
   "source": [
    "rfc_model = model"
   ]
  },
  {
   "cell_type": "raw",
   "metadata": {},
   "source": [
    "svm = SVC(kernel='sigmoid',gamma='auto',probability=True)"
   ]
  },
  {
   "cell_type": "code",
   "execution_count": 12,
   "metadata": {},
   "outputs": [],
   "source": [
    "rfc_model = RandomForestClassifier(min_samples_split=20,criterion='entropy',random_state=10)"
   ]
  },
  {
   "cell_type": "code",
   "execution_count": 25,
   "metadata": {},
   "outputs": [
    {
     "data": {
      "text/plain": [
       "BernoulliNB(alpha=1.0, binarize=0.0, class_prior=None, fit_prior=True)"
      ]
     },
     "execution_count": 25,
     "metadata": {},
     "output_type": "execute_result"
    }
   ],
   "source": [
    "rfc_model.fit(training_data,training_op)\n",
    "#model.fit(training_data, training_op)"
   ]
  },
  {
   "cell_type": "code",
   "execution_count": 26,
   "metadata": {},
   "outputs": [
    {
     "data": {
      "text/plain": [
       "0.9368508270943686"
      ]
     },
     "execution_count": 26,
     "metadata": {},
     "output_type": "execute_result"
    }
   ],
   "source": [
    "rfc_model.score(training_data,training_op)"
   ]
  },
  {
   "cell_type": "code",
   "execution_count": 27,
   "metadata": {},
   "outputs": [
    {
     "data": {
      "text/plain": [
       "0.9088595608687933"
      ]
     },
     "execution_count": 27,
     "metadata": {},
     "output_type": "execute_result"
    }
   ],
   "source": [
    "rfc_model.score(testing_data,test_op)"
   ]
  },
  {
   "cell_type": "code",
   "execution_count": 28,
   "metadata": {},
   "outputs": [],
   "source": [
    "#url = \"http://www.bbc.com/\"\n",
    "url = \"https://in.yahoo.com/?p=us\"\n",
    "headlines = extract_hedlines(url)"
   ]
  },
  {
   "cell_type": "code",
   "execution_count": 29,
   "metadata": {},
   "outputs": [],
   "source": [
    "for lines, i in zip(headlines, range(len(headlines))):\n",
    "    headlines[i] = normalise_text(lines)"
   ]
  },
  {
   "cell_type": "code",
   "execution_count": 30,
   "metadata": {},
   "outputs": [],
   "source": [
    "testing_headlines = pd.DataFrame({\"TITLE\":headlines})"
   ]
  },
  {
   "cell_type": "code",
   "execution_count": null,
   "metadata": {},
   "outputs": [],
   "source": []
  },
  {
   "cell_type": "code",
   "execution_count": 31,
   "metadata": {},
   "outputs": [],
   "source": [
    "testing_cv_matrix = cv.transform(testing_headlines['TITLE'])"
   ]
  },
  {
   "cell_type": "code",
   "execution_count": 32,
   "metadata": {},
   "outputs": [],
   "source": [
    "testing_cv_matrix = testing_cv_matrix.toarray()\n"
   ]
  },
  {
   "cell_type": "code",
   "execution_count": 33,
   "metadata": {},
   "outputs": [],
   "source": [
    "transformed_testing_data = tv.transform(testing_cv_matrix) "
   ]
  },
  {
   "cell_type": "code",
   "execution_count": 34,
   "metadata": {
    "scrolled": true
   },
   "outputs": [],
   "source": [
    "prediction = rfc_model.predict(transformed_testing_data)"
   ]
  },
  {
   "cell_type": "code",
   "execution_count": 35,
   "metadata": {},
   "outputs": [
    {
     "name": "stdout",
     "output_type": "stream",
     "text": [
      "sheila dikshit finally made electoral debut 1984 member cong winning kannauj constituency thus kicking 30yr-long career politics .   e\n",
      "disha patani tiger shroff attended special screening super 30 pose together however pair recently spotted restaurant , smiles chatty . reconciliation date ? guess good !   e\n",
      "40 250 republicans serving us congress thursday morning criticized trump attacks , widely condemned racist , four : alexandria ocasio-cortez new york , ilhan omar minnesota , ayanna pressley massachusetts rashida tlaib michigan . tweeting weekend four `` go back '' came , even though u.s. citizens three born united states , trump stepped vilification rally wednesday .   m\n",
      "ill come back check later rest legs finished uploading . ''   e\n",
      "whether follow hinduism christianity islam , greek , egyptian , roman , chinese culture , get know interpretations dreaming snakes .   b\n",
      "upon time long priyanka chopra starred quantico tied knot nick..   e\n",
      "three reasons rohit sharma made indian captain whiteball cricket   e\n",
      "prime minister narendra modi worlds admired indian according online survey conducted uk-based firm .   t\n",
      "farewell sheila dikshit   e\n",
      "disha patani tiger shroff back together couple pics hint   e\n",
      "factbox republicans hit trumps attacks minority congresswomen 'send back ' chant   b\n",
      "quit editing photos real ' : kylie jenner called fans ( yet )   e\n",
      "6 epic priyanka chopra throwback photos honor 37th birthday   e\n",
      "3 reasons rohit sharma replace virat kohli indian captain whiteball cricket   e\n",
      "pm narendra modi worlds admired indian followed amitabh bachchan shah rukh khan check full list world 's admired persons   t\n",
      "india newzstreet media   b\n"
     ]
    }
   ],
   "source": [
    "for i in range(testing_headlines['TITLE'].shape[0]):\n",
    "    if(len(testing_headlines.TITLE[i])>20):\n",
    "        print(testing_headlines.TITLE[i],\" \",data.CATEGORY.factorize()[1][prediction[i]])"
   ]
  },
  {
   "cell_type": "code",
   "execution_count": null,
   "metadata": {},
   "outputs": [],
   "source": []
  },
  {
   "cell_type": "code",
   "execution_count": null,
   "metadata": {},
   "outputs": [],
   "source": []
  }
 ],
 "metadata": {
  "kernelspec": {
   "display_name": "Python 3",
   "language": "python",
   "name": "python3"
  },
  "language_info": {
   "codemirror_mode": {
    "name": "ipython",
    "version": 3
   },
   "file_extension": ".py",
   "mimetype": "text/x-python",
   "name": "python",
   "nbconvert_exporter": "python",
   "pygments_lexer": "ipython3",
   "version": "3.7.3"
  }
 },
 "nbformat": 4,
 "nbformat_minor": 2
}
