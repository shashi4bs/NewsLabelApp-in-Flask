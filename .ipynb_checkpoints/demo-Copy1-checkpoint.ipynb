{
 "cells": [
  {
   "cell_type": "code",
   "execution_count": 15,
   "metadata": {},
   "outputs": [],
   "source": [
    "from lib import *\n",
    "from features import *"
   ]
  },
  {
   "cell_type": "code",
   "execution_count": 16,
   "metadata": {},
   "outputs": [
    {
     "name": "stderr",
     "output_type": "stream",
     "text": [
      "[nltk_data] Downloading package stopwords to /home/shashi/nltk_data...\n",
      "[nltk_data]   Package stopwords is already up-to-date!\n",
      "[nltk_data] Downloading package punkt to /home/shashi/nltk_data...\n",
      "[nltk_data]   Package punkt is already up-to-date!\n"
     ]
    },
    {
     "data": {
      "text/plain": [
       "True"
      ]
     },
     "execution_count": 16,
     "metadata": {},
     "output_type": "execute_result"
    }
   ],
   "source": [
    "nltk.download('stopwords')\n",
    "nltk.download('punkt')"
   ]
  },
  {
   "cell_type": "code",
   "execution_count": 17,
   "metadata": {},
   "outputs": [],
   "source": [
    "url = [\"https://www.bbc.co.uk/\",\"https://in.yahoo.com/?p=us\",'https://gadgets.ndtv.com/news','https://news.google.com/?hl=en-IN&gl=IN&ceid=IN:en']"
   ]
  },
  {
   "cell_type": "code",
   "execution_count": 18,
   "metadata": {},
   "outputs": [],
   "source": [
    "categories = ['Medical','Entertainment','Business','Tech']"
   ]
  },
  {
   "cell_type": "code",
   "execution_count": 19,
   "metadata": {},
   "outputs": [],
   "source": [
    "headlines = []\n",
    "for i in range(len(url)):\n",
    "    headlines.append(extract_hedlines(url[i]))"
   ]
  },
  {
   "cell_type": "code",
   "execution_count": null,
   "metadata": {},
   "outputs": [],
   "source": []
  },
  {
   "cell_type": "markdown",
   "metadata": {},
   "source": [
    "# considering it to be a specific page for an article \n",
    "for i in range(len(headlines)):\n",
    "    if(len(headlines[i][0])>25):\n",
    "        headlines[i] = headlines[i][0]\n",
    "    else:\n",
    "        headlines[i] = headlines[i][1:]"
   ]
  },
  {
   "cell_type": "code",
   "execution_count": 20,
   "metadata": {},
   "outputs": [],
   "source": [
    "for i in range(len(headlines)):\n",
    "    for lines, j in zip(headlines[i], range(len(headlines[i]))):\n",
    "        headlines[i][j] = normalise_text(lines)"
   ]
  },
  {
   "cell_type": "markdown",
   "metadata": {},
   "source": [
    "# converting lists of headlines to dataframe"
   ]
  },
  {
   "cell_type": "code",
   "execution_count": 21,
   "metadata": {},
   "outputs": [],
   "source": [
    "testing_headlines ={}\n",
    "for i in range(len(headlines)):\n",
    "    testing_headlines[url[i]] = pd.DataFrame({\"TITLE\":headlines[i]})"
   ]
  },
  {
   "cell_type": "code",
   "execution_count": 22,
   "metadata": {},
   "outputs": [
    {
     "data": {
      "text/plain": [
       "dict_keys(['https://www.bbc.co.uk/', 'https://in.yahoo.com/?p=us', 'https://gadgets.ndtv.com/news', 'https://news.google.com/?hl=en-IN&gl=IN&ceid=IN:en'])"
      ]
     },
     "execution_count": 22,
     "metadata": {},
     "output_type": "execute_result"
    }
   ],
   "source": [
    "testing_headlines.keys()"
   ]
  },
  {
   "cell_type": "markdown",
   "metadata": {},
   "source": [
    "# load trained model, count_vectorizer, tf-idf"
   ]
  },
  {
   "cell_type": "code",
   "execution_count": 23,
   "metadata": {},
   "outputs": [
    {
     "name": "stderr",
     "output_type": "stream",
     "text": [
      "/home/shashi/libs/anaconda/lib/python3.7/site-packages/sklearn/base.py:251: UserWarning: Trying to unpickle estimator DecisionTreeClassifier from version 0.19.1 when using version 0.20.1. This might lead to breaking code or invalid results. Use at your own risk.\n",
      "  UserWarning)\n",
      "/home/shashi/libs/anaconda/lib/python3.7/site-packages/sklearn/base.py:251: UserWarning: Trying to unpickle estimator RandomForestClassifier from version 0.19.1 when using version 0.20.1. This might lead to breaking code or invalid results. Use at your own risk.\n",
      "  UserWarning)\n",
      "/home/shashi/libs/anaconda/lib/python3.7/site-packages/sklearn/base.py:251: UserWarning: Trying to unpickle estimator CountVectorizer from version 0.19.1 when using version 0.20.1. This might lead to breaking code or invalid results. Use at your own risk.\n",
      "  UserWarning)\n",
      "/home/shashi/libs/anaconda/lib/python3.7/site-packages/sklearn/base.py:251: UserWarning: Trying to unpickle estimator TfidfTransformer from version 0.19.1 when using version 0.20.1. This might lead to breaking code or invalid results. Use at your own risk.\n",
      "  UserWarning)\n"
     ]
    }
   ],
   "source": [
    "model = pickle.load(open('rfc_model.pkl', 'rb'))\n",
    "cv = pickle.load(open('cv.pkl','rb'))\n",
    "tv = pickle.load(open('tv.pkl','rb'))"
   ]
  },
  {
   "cell_type": "code",
   "execution_count": 24,
   "metadata": {},
   "outputs": [],
   "source": [
    "cv_matrix = {}\n",
    "tv_matrix = {}\n",
    "for link in testing_headlines.keys():\n",
    "    cv_matrix[link] = cv.transform(testing_headlines[link]['TITLE']).toarray()\n",
    "    tv_matrix[link] = tv.transform(cv_matrix[link]).toarray()"
   ]
  },
  {
   "cell_type": "code",
   "execution_count": 25,
   "metadata": {},
   "outputs": [],
   "source": [
    "prediction = {}\n",
    "for link in testing_headlines.keys():\n",
    "    prediction[link] = model.predict(tv_matrix[link])"
   ]
  },
  {
   "cell_type": "code",
   "execution_count": 27,
   "metadata": {},
   "outputs": [
    {
     "name": "stdout",
     "output_type": "stream",
     "text": [
      "https://www.bbc.co.uk/\n",
      "crate guns disappears thomas sees opportunity move world  :    Business\n",
      "family accept payoff keep silent abuse son film producer  :    Entertainment\n",
      "ross challenges king country help friend whilst cornwall burns revolution  :    Business\n",
      "al sends earn uncle willys willy locks girlfriend bedroom  :    Entertainment\n",
      "factual drama young man drawn farright hate crime  :    Entertainment\n",
      "comedian dara briain rattus guest host show marking 1969 moon landings  :    Entertainment\n",
      "dame emma thompson talks ali plumb greatest movie moments  :    Entertainment\n",
      "cant interview people agree . ''  :    Entertainment\n",
      "jacob delves world psychedelics talks ayahuasca comedy club  :    Entertainment\n",
      "brand new music national floating points girl band  :    Entertainment\n",
      "amber mark performs cover swvs weak 1xtra live lounge  :    Entertainment\n",
      "towies gatsby spills stealing pete wicks pizza making music joey essex  :    Entertainment\n",
      "england beaten nz thrilling semifinal  :    Entertainment\n",
      "seven fitness truths actually false  :    Tech\n",
      "mark hamill surprised icon award comic con  :    Entertainment\n",
      "dan bilzerian id consider deleting instagram  :    Entertainment\n",
      "man utd reject inter milans 54m lukaku bid  :    Business\n",
      "nine secrets healthy happy relationship  :    Medical\n",
      "iran choosing dangerous path tanker seizure  :    Entertainment\n",
      "ministers pledge end poor doors  :    Entertainment\n",
      "new search bid solve vatican mystery  :    Business\n",
      "tour de france stage 14 live triumph tourmalet  :    Entertainment\n",
      "gb stars action anniversary games  :    Entertainment\n",
      "five remarkable places eat world  :    Entertainment\n",
      "lion king remake like bizarre attenborough doc  :    Business\n",
      "seven objects tell story apollo missions  :    Business\n",
      "one six people agree moon landings staged  :    Tech\n",
      "five things get wrong space  :    Tech\n",
      "shot face six times survived  :    Entertainment\n",
      "learner driver took 21 practical tests year  :    Tech\n",
      "given 24 hours move london halifax  :    Business\n",
      "proms history made landmark performance  :    Entertainment\n",
      "10 pieces classical music make cry  :    Entertainment\n",
      "composer spills beans proms celestial opening number  :    Entertainment\n",
      "hong kong actor stabbed stage china  :    Business\n",
      "simpsons writers predict future  :    Entertainment\n",
      "comiccon top gun trailer new avengers game  :    Entertainment\n",
      "told keep mouth shut weinstein  :    Entertainment\n",
      "new peaky blinders series madness  :    Entertainment\n",
      "gossip girl five big cultural comebacks  :    Entertainment\n",
      "five top holiday spots weak pound goes far  :    Entertainment\n",
      "faceapp accurately depict age  :    Entertainment\n",
      "used selling cannabis way fit  :    Entertainment\n",
      "transgender mans surgery sparks mutilation ' row  :    Medical\n",
      "cycle route blocked mountain fly-tipped waste  :    Entertainment\n",
      "iran tanker crisis avoidable  :    Business\n",
      "would pay less tax moved abroad  :    Business\n",
      "boy racers ' - rise car cruises  :    Tech\n",
      "super bowl winner dies suddenly aged 32  :    Entertainment\n",
      "zimbabwe netballers gatecrash bbc tv coverage  :    Entertainment\n",
      "realistic cinemas famous spacesuits  :    Entertainment\n",
      "flight shaming movement taking  :    Entertainment\n",
      "best films watch cinema week  :    Entertainment\n",
      "artists making bricks human urine  :    Medical\n",
      "groundbreaking shortlist uks best new building  :    Entertainment\n",
      "archaeologists find 1200year-old mosque desert  :    Entertainment\n",
      "hundreds allege jesus army sexual physical abuse  :    Entertainment\n",
      "family get 1m fine arguing taxes god 's '  :    Business\n",
      "timesaving recipe hacks seriously good results  :    Business\n",
      "freezer aisle friend simple recipes  :    Entertainment\n",
      "seven easy ways get pizza life  :    Medical\n",
      "edinburgh hogmanay announces worldfamous headliner  :    Entertainment\n",
      "music reduces preop anxiety ' well sedative  :    Entertainment\n",
      "giant ed sheeran statue appears russia  :    Business\n",
      "teens wish dream ride ' prom comes true  :    Medical\n",
      "escaped tiger takes nap mans bed  :    Entertainment\n",
      "paying attention weeks news  :    Entertainment\n",
      "guess lesserknown facts space travel  :    Tech\n",
      "name top australian premier league players  :    Entertainment\n",
      "read approach external linking  :    Tech\n",
      "https://in.yahoo.com/?p=us\n",
      "dikshit feeling well rushed escorts hospital morning slipped coma following passed away  :    Medical\n",
      "disha patani tiger shroff attended special screening super 30 pose together however pair recently spotted restaurant , smiles chatty . reconciliation date ? guess good !  :    Entertainment\n",
      "ill come back check later rest legs finished uploading . ''  :    Entertainment\n",
      "prime minister narendra modi worlds admired indian according online survey conducted uk-based firm .  :    Business\n",
      "three reasons rohit sharma made indian captain whiteball cricket  :    Entertainment\n",
      "store clerk also threatened customers ice come ” adding “ wrong country . ”  :    Tech\n",
      "upon time long priyanka chopra starred quantico tied knot nick..  :    Entertainment\n",
      "disha patani tiger shroff back together couple pics hint  :    Entertainment\n",
      "quit editing photos real ' : kylie jenner called fans ( yet )  :    Entertainment\n",
      "walmart shopper gargled mouthwash spit back bottle returned shelf  :    Business\n",
      "pm narendra modi worlds admired indian followed amitabh bachchan shah rukh khan check full list world 's admired persons  :    Entertainment\n",
      "3 reasons rohit sharma replace virat kohli indian captain whiteball cricket  :    Entertainment\n",
      "store clerk fired telling customers go back country viral video  :    Entertainment\n",
      "6 epic priyanka chopra throwback photos honor 37th birthday  :    Entertainment\n",
      "https://gadgets.ndtv.com/news\n",
      "tiktok testing instagraminspired features report  :    Tech\n",
      "huawei y9 prime 2019 india launch soon amazon teaser reveals  :    Tech\n",
      "blanket ban cryptocurrencies india government says  :    Business\n",
      "redmi k20 redmi k20 pro adsupported monetisation , ’ says xiaomi : actually means  :    Tech\n",
      "twitter soon offer context certain tweets unavailable  :    Business\n",
      "android get better truly wireless headphones support year  :    Tech\n",
      "motorola one action spotted android enterprise directory ahead launch specifications confirmed  :    Tech\n",
      "asus zenfone max pro m1 price india cut starts rs 7,999  :    Tech\n",
      "youtube said pay fine us violating kids data privacy laws  :    Business\n",
      "tinder bypasses google play billing inapp purchases revolt app store fee  :    Tech\n",
      "youtube music app allows switching audio video  :    Tech\n",
      "huaweis major suppliers said meet white house discuss us ban  :    Business\n",
      "apollo 11 space mission buzz aldrin complains current us lunar ability  :    Tech\n",
      "game thrones cast talks season 8 backlash fan petition ending , san diego comic-con 2019  :    Entertainment\n",
      "boys renewed season 2 casts aya cash stormfront san diego comic-con 2019  :    Entertainment\n",
      "witcher trailer released netflix san diego comiccon 2019  :    Entertainment\n",
      "rick morty season 4 first look released san diego comiccon 2019  :    Entertainment\n",
      "avengers endgame directors tease secret wars ) , field silly questions cast members san diego comic-con 2019  :    Entertainment\n",
      "avengers endgame writers talk deleted scenes draft ideas san diego comic-con 2019  :    Entertainment\n",
      "oppo k3 popup selfie camera snapdragon 710 soc launched india : price , specifications , launch offers  :    Tech\n",
      "https://news.google.com/?hl=en-IN&gl=IN&ceid=IN:en\n",
      "language amp region english ( india )  :    Business\n",
      "india news sheila dikshit one tallest leaders congress distinction delhis longest serving chief minister giving .  :    Business\n",
      "veteran congress leader sheila dikshit longest serving chief minister delhi died cardiac arrest hospital delhi . 81 .  :    Medical\n",
      "india news former chief minister delhi senior congress leader sheila dikshit passed away delhi age 81 years admitted private ...  :    Entertainment\n",
      "sheila dikshit dies 81 psephologist founder cvoter , yashwant deshmukh , pays tribute sheila dikshit , longest-serving chief minister delhi ...  :    Entertainment\n",
      "new delhi sheila dikshit quite fond western music since youth would sit near radio waiting favourite songs aired ..  :    Entertainment\n",
      "mirzapurlucknownew delhi : standoff priyanka gandhi vadra uttar pradesh government ended saturday , day congress ...  :    Entertainment\n",
      "twelve members affected families sonbhadra met congress general secretary priyanka gandhi guest house senior party leader ajay rai ..  :    Entertainment\n",
      "priyanka gandhi vadra requested chief minister yogi adityanath keep security minimum visits state convenience  :    Business\n",
      "priyanka gandhi meets families sonbhadra opposition establish connect voters without expecting immediate gains  :    Business\n",
      "priyanka gandhi vadra congress general secretary east ) , spent night mirzapur state guest house refused furnish bail bond trying ...  :    Business\n",
      "interview raghuram rajan confirmed didnt apply head bank england . 'it 's obvious 'm outsider , ' said raghuram rajan .  :    Business\n",
      "simon kennedy former reserve bank india governor raghuram rajan indicated political challenges posed brexit reasons didnt ..  :    Business\n",
      "former reserve bank india governor raghuram rajan indicated political challenges posed brexit reasons didnt apply head ..  :    Business\n",
      "new delhi centre saturday appointed six new governors states madhya pradesh uttar pradesh , west bengal , bihar , nagaland tripura .  :    Entertainment\n",
      "new delhi major rejig madhya pradesh governor former chief minister gujarat anandiben patel transferred appointed new ...  :    Tech\n",
      "india news former interlocutor naga talks r n ravi appointed nagaland governor according rashtrapati bhavan communique .  :    Business\n",
      "former interlocutor naga talks rn ravi appointed nagaland governor according rashtrapati bhavan communique noted lawyer ...  :    Entertainment\n",
      "anandiben governor madhya pradesh lal ji tandon bihar governor appointments take effect dates assume ..  :    Entertainment\n",
      "application says top court order whittles power political party  :    Entertainment\n",
      "karnataka congress approached supreme court today contending wednesdays order resignation 15 rebel lawmakers ..  :    Business\n",
      "karnataka assembly trust vote floor test live updates : speaker kr ramesh kumar adjourned house till monday . earlier , ramesh kumar said ...  :    Entertainment\n",
      "karnataka congress chief dinesh gundu rao friday moved supreme court saying july 17 order compromises partys right issue whip mlas .  :    Business\n",
      "supreme court held speakers discretion decide resignations 15 dissident mlas belonging congressjanata dal ...  :    Entertainment\n",
      "fivepage order pronounced bench led chief justice india ranjan gogoi july 17 gave clear indication 15 rebel congressjanata dal ...  :    Business\n",
      "day congress leader priyanka gandhi vadra detained stopped going sonbhadra district uttar pradesh 10 people gunned ..  :    Entertainment\n",
      "bengaluru even three deadlines ” 17 hours debate two days , trust motion moved karnataka chief minister h kumaraswamy could ...  :    Business\n",
      "karnataka assembly session chief minister hd kumaraswamy responded someones allegations brother , also mla , ...  :    Business\n",
      "karnataka assembly trust vote floor test live updates : insisting trust vote process completed friday , bjp leader suresh kumar said ...  :    Entertainment\n",
      "cm kumaraswamy friday invoked bible trust vote debate entered second day stating divine providence brought govt power  :    Business\n",
      "england captain eoin morgan admitted troubled way 2019 world cup ended england new zealand played match tied ..  :    Entertainment\n",
      "never heartbeat neutral fans world cup might end  :    Entertainment\n",
      "virat kohli anushka sharma earlier spotted london  :    Entertainment\n",
      "virat kohli anushka sharma clicked airport couple returned home world cup  :    Business\n",
      "mumbai national selection committee meet sunday morning mumbai pick squads indias tour west indies . indian selectors ...  :    Entertainment\n",
      "london international cricket captains longer run risk suspended slow overrates icc deciding instead dock points fine ...  :    Medical\n",
      "forwards letter governor formal acceptance  :    Entertainment\n",
      "punjab chief minister captain amarinder singh accepted navjot singh sidhus resignation state minister mr sidhu refused join new ministry ...  :    Entertainment\n",
      "thetribune chandigarh capt amarinder singh asserted anyone happy harpreet sidhu 's re-posting stf chief welcome seek ...  :    Business\n",
      "cabinet reshuffle june 6 amarinder divested sidhu local bodies tourism culture affairs portfolios citing nonperformance ...  :    Business\n",
      "punjab chief minister amarinder singh accepted cabinet minister navjot singh sidhus resignation saturday pti reported . chief minister forwarded ...  :    Business\n",
      "day arrested officials enforcement directorate ima jewels founder managing director mansoor khan fled india last ...  :    Entertainment\n",
      "special prevention money laundering act court bengaluru saturday sent mohammed mansoor khan main accused multicrore ima jewels ...  :    Business\n",
      "arrest ima scam mastermind mohammed mansoor khan enforcement directorate new delhi friday turned heat many top leaders  :    Tech\n",
      "main accused multicrore ima ponzi scam mansoor khan today sent custody enforcement directorate ed ) till july 23 special ...  :    Tech\n",
      "mohammed mansoor khan owner monetary advisory jewels arrested friday new delhi connection ponzi scam . khan ...  :    Entertainment\n",
      "due several political developments past years ec wants three political parties respond national party ' status ...  :    Entertainment\n",
      "new delhi rajya sabha mp raja take general secretary communist parry india cpi ) incumbent sudhakar reddy resigned ...  :    Business\n",
      "latest news today rajya sabha mp raja take general secretary communist parry india cpi ) incumbent sudhakar reddy ...  :    Business\n",
      "new delhi cpi national executive meeting friday unanimously proposed name senior central secretariat member raja 70 , party general ...  :    Business\n",
      "28yearold dalit man friday sustained injuries people mistook thief allegedly tried burn alive entered house ...  :    Entertainment\n",
      "allegedly labeled thief began beating stripped bathed petrol set fire .  :    Entertainment\n",
      "28yearold man sustained injuries friday people mistook thief allegedly tried burn alive entered house avoid ...  :    Entertainment\n",
      "mistaken thief 28year-old man allegedly stripped , beaten set fire mob dewa area barabanki late thursday night .  :    Entertainment\n",
      "lucknow 28year-old dalit man friday sustained injuries people mistook thief allegedly tried burn alive entered ...  :    Entertainment\n",
      "india news according media report 18 indian nationals among 23 crew members british-flagged oil tanker seized iran amid fresh ...  :    Business\n",
      "iran opened investigation saturday britishflagged tanker alleges collided fishing vessel strait hormuz tensions mount ...  :    Business\n",
      "iran seized britishflagged oil tanker friday briefly detained second vessel strait hormuz intensifying tensions strategic waterway ...  :    Business\n",
      "tensions gulf region simmered iran said seized british oil tanker strait hormuz friday hours rubbishing claims us ..  :    Business\n",
      "britain said iran seized two oil tankers gulf friday told tehran return vessels face consequences latest confrontation ratchet .  :    Business\n",
      "us president donald trump meeting next week pakistan prime minister imran khan would seek release jailed pakistani doctor shakil ...  :    Entertainment\n",
      "islamabad pakistan prime minister imran khan fly us first meeting president donald trump commercial flight cashstrapped ...  :    Business\n",
      "us president donald trump meeting next week pakistan prime minister imran khan would seek release jailed pakistani doctor shakil ...  :    Entertainment\n",
      "imran khan upcoming visit us president donald trump told door open repairing relationship building enduring ...  :    Business\n",
      "us news us prez donald trump scheduled meet pakistan pm imran khan monday meeting former might seek release jailed ...  :    Business\n",
      "india news india acquiring s400 missile defence system russia `` problem '' us , top american commander said , asserting ...  :    Business\n",
      "must remember america america . 's america , '' tweeted .  :    Entertainment\n",
      "former first lady michelle obama added voice friday democratic outcry following president donald trumps attack four ethnic minority ..  :    Entertainment\n",
      "democraticcontrolled house representatives tuesday rebuked trump  :    Entertainment\n",
      "us news truly makes country great diversity ... whether born seek refuge , 's place us , '' former first lad .  :    Business\n",
      "us president donald trump recently faced criticism rascist comments four minority congresswomen asking 'go back ' countries ...  :    Entertainment\n",
      "washington former first lady michelle obama added voice friday democratic outcry following president donald trumps attack four ethnic minority ...  :    Entertainment\n",
      "private sector lender hdfc bank saturday reported 21 yearon-year rise net profit rs 5,568.2 cr quarter ended june 30 , 2019 ( q1fy20 ) .  :    Business\n",
      "hdfc bank posted net profit rs 460144 crore corresponding quarter last year  :    Business\n",
      "private sector lender hdfc banks apriljune quarter earnings matched analyst expectations profit growing 21 percent year-on-year , though asset quality ...  :    Business\n",
      "net interest income grew 229 year-on-year ₹13294.3 crore april-june.gross npas , percentage total advances , rose 1.4 % june quarter , ...  :    Business\n",
      "mumbai hdfc bank saturday posted 21 per cent yearon-year ( yoy ) rise standalone net profit rs 5,568.16 crore quarter ended june 2019 .  :    Business\n",
      "trai released latest market share reports may 2019 reliance jio gains telecom broadband sector  :    Business\n",
      "proceeds allow mukesh ambaniled ril reduce debt amp ; free cash take rivals airtel voda idea .  :    Business\n",
      "jio seen consistent increase data voice usage among users peruser monthly data usage increasing 11.4gb .  :    Entertainment\n",
      "reliance jio vaulted past bharti airtel become countrys secondlargest mobile telephone company user base .  :    Business\n",
      "bquick brings top news day best reads bloombergquint website snappy under10 minute read read day 's ...  :    Entertainment\n",
      "new delhi richest indian mukesh ambani kept annual salary flagship firm reliance industries capped 15 crore eleventh year ...  :    Business\n",
      "revelations heart scathing indictment top agencies draft forensic report alleged wrongdoing ilampfs slipped default .  :    Business\n",
      "india business news forensic audit credit rating agencies pointed massive irregularities top ilamp ; fs executives obtaining favourable ratings , ...  :    Business\n",
      "grant thornton india llp appointed conduct forensic audit credit rating agencies cras ) engaged infrastructure leasing & amp ; financial ...  :    Business\n",
      "finding centre ilampfs controversy , india ratings july 20 said investigation role senior director parent firm fitch 's singapore ...  :    Business\n",
      "credit rating agencies years assigned high ratings countrys infrastructure leasing amp ; financial services ( il & amp ; fs ) group companies despite ...  :    Business\n",
      "couple days ago redmi finally released muchawaited redmi k20 k20 pro phones india aggressive pricing great specs ...  :    Tech\n",
      "quite surprise xiaomi brand known offering valuefor-money smartphones , write open letter justify supposedly high price latest ...  :    Business\n",
      "redmi k20 redmi k20 pro xiaomis latest launches india market starting price rs . 21,999 rs . 27,999 respectively . makes ...  :    Tech\n",
      "powerful specs flagship design market leader going aggressively 300 $ 500 segment .  :    Business\n",
      "huaweis upcoming nova 5i pro kirin 810 surpasses redmi k20 geekbench substanial margin see comparison & amp ; one buy .  :    Business\n",
      "handset available starting july 23 starting price rs 16990 amazon india website comes launch offers get buyers ..  :    Business\n",
      "expected today oppo officially introduced k3 indian market phone become available amazon , first sale starts 12 noon ...  :    Business\n",
      "oppo k3 first look hands check price india , specifications . follow tech news , reviews , , deals , offers bgr india .  :    Business\n",
      "days teasing oppo unveiled companys new mobile oppo k3 india . advertised , oppo k3 available exclusively amazon india ...  :    Tech\n",
      "chinese smartphone maker oppo introduced another midsegment smartphone oppo k3 , indian market 6.5-inch full hd+ amoled ...  :    Tech\n",
      "tiktok reportedly mulling launch host new features seem inspired facebookowned instagram  :    Tech\n",
      "tiktok wildly popular shortform video platform , appears testing whole host new features seem take cues instagram .  :    Entertainment\n",
      "following us trade restrictions huawei working developing hongmeng os.it previously reported alternative google..  :    Tech\n",
      "hongmeng os often tipped replacement android huaweis smartphones apparently , company plans . catherine chen , board ...  :    Tech\n",
      "huawei board member senior vice president catherine chen confirmed interview hongmeng os meant smartphones  :    Tech\n",
      "huawei still needs android huawei downplaying idea hongmeng operating system could serve dropin replacement googles android ...  :    Tech\n",
      "two days ago learned huawei set launch popup camera smartphone india end month company two smartphones ...  :    Tech\n",
      "deepika padukones fans protesting possibility favourite actor working sexual harassment accused filmmaker luv ranjan  :    Entertainment\n",
      "bollywood actors deepika padukone ranbir kapoor snapped outside filmmaker luv ranjans residence friday evening two reportedly ...  :    Entertainment\n",
      "deepika padukone ranbir kapoor occupied top spot list trends saturday reason actors photographed filmmaker luv ...  :    Entertainment\n",
      "actors deepika padukone ranbir kapoor rumoured reuniting upcoming film visited filmmaker luv ranjan 's residence friday .  :    Entertainment\n",
      "snapshots deepika padukone leaving filmmakers office ranbir kapoor last night sparked speculations two stars set reunite ..  :    Entertainment\n",
      "kabir singh article 15 spider-man : far home , super 30 — successful box office since audiences coming ...  :    Entertainment\n",
      "super 30 box office collection super 30 performed best southern region nizamandhra mysore taking lead surpassing ...  :    Entertainment\n",
      "bollywood actor hrithik roshan seen promoting movie super 30 mumbai . good opening weekend july 12 steady run ...  :    Entertainment\n",
      "super 30 made taxfree uttar pradesh well bihar rajasthan .  :    Entertainment\n",
      "super 30 starring hrithik roshan expected cross 100-crore mark within second week release , reports bollywood trade analyst taran adarsh .  :    Business\n",
      "jon favreau directorial liveaction remake 1994 classic lion king ' opened terrific first-day collection indian box office . disney 's ...  :    Entertainment\n",
      "disney continues abuse backcatalogue steady barrage remakes one thing made clear . new films massively ...  :    Entertainment\n",
      "new version journeys african savannah future king born simba — idolises father , king mufasa .  :    Business\n",
      "jon favreaus version sometimes looks like shotfor-shot remake original 1994 movie images prove .  :    Entertainment\n",
      "set heartland africa lion king tells tale brave majestic lion mufasa best impart wisdom son simba .  :    Business\n",
      "shahid kapoor still kabir singh  :    Entertainment\n",
      "shahid kapoor kiara advanistarrer kabir singh continues fantastic run box office even fifth week .  :    Entertainment\n",
      "shahid kapoors recent film kabir singh one biggest successes 2019. recent interview , shahid kapoor opened success ...  :    Entertainment\n",
      "shahid kapoor currently enjoying success praises acting recently released kabir singh box-office . talented .  :    Entertainment\n",
      "mira rajput took instagram post throwback photo took time fans refer kabir singh ki bandi .  :    Entertainment\n",
      "shahid kapoor currently riding high success latest release kabir singh film broken several boxoffice records raked almost ...  :    Entertainment\n",
      "virat kohli decided make available limitedovers series  :    Entertainment\n",
      "india first play limitedovers series three t20is three odis august 3 august 14 -- starting campaign test ...  :    Entertainment\n",
      "cricket news intense speculation dhoni already retired test format , played last odi india world cup ...  :    Entertainment\n",
      "30th december 2014 shortly end melbourne test ms dhoni announced retirement test cricket bcci press ...  :    Medical\n",
      "former indian captain ms dhoni made unavailable india 's upcoming tour west indies decided take two-month sabbatical ...  :    Entertainment\n",
      "cricket news skipper ms dhoni took tough decisions phase legends team . time team india 's selection committee likewise ...  :    Business\n",
      "telugu titans take u mumba first match season 7 pro kabaddi league gachibowli stadium hyderabad bengaluru bulls face patna ..  :    Entertainment\n",
      "second costliest league country indian premier league pro kabaddi league ( pkl ) -- set kick-off seventh season ...  :    Tech\n",
      "siddharth desai special bond fazel atrachali time u mumba mindset facing iranian saturday walk ..  :    Business\n",
      "finishing runnersup last two seasons agonising defeats final coach manpreet singh confident gujarat going one step ...  :    Entertainment\n",
      "todays first match u mumba defeated telugu titans scoreline 31-25. check pro kabaddi 2019 live score , match updates stats .  :    Entertainment\n"
     ]
    },
    {
     "name": "stdout",
     "output_type": "stream",
     "text": [
      "badminton news pv sindhu dished another stunning performance world 5 recorded comfortable 21-19 , 21-10 win chen yu fei china ...  :    Business\n",
      "indonesia open 2019 semifinals badminton pv sindhu vs chen yufei badminton highlights : pv sindhu beat chen yufei 21-19 , 21-10 women 's singles ...  :    Entertainment\n",
      "pv sindhu defeated chen yu fei straight games set final clash japans akane yamaguchi  :    Tech\n",
      "indonesia open 2019 pv sindhu looking first title victory season beating chen yufei womens singles semi-final .  :    Entertainment\n",
      "pv sindhu vs chen yufei indonesia open badminton 2019 semifinals live score streaming star sports 1 live : pv sindhu seen semifinal action ...  :    Entertainment\n",
      "despite axar patels enterprising 63ball 81 , india slipped gut-wrenching five-run loss fourth one-dayer west indies coolidge . india ...  :    Business\n",
      "west indies picked consolation win india fourth unofficial odi coolidge friday july 19 , beating visitors 5 runs .  :    Entertainment\n",
      "cricket news axar patels reargaurd heroics went vain india suffered narrow five-run loss west indies fourth unofficial odi five-  :    Entertainment\n",
      "conceded fivematch oneday series losing first three matches , west indies earned hard-fought win india fourth game ...  :    Entertainment\n",
      "attention composition limitedover squads calls need taken regarding test side .  :    Entertainment\n",
      "america put humans moon able solve scientific technical problems posed climate change political challenges ...  :    Tech\n",
      "apollo 11s moon landing enthralled generation cosmos holds planetary secrets space exploration could unlock .  :    Tech\n",
      "opinion decades nasa 's under-funded . apollo 11 getting moon miracle science engineering . ?  :    Tech\n",
      "retired nasa flight director milt winder worked apollo 13 mission shift mission control staff came nowfamous ..  :    Tech\n",
      "silica aerogels 97 per cent porous meaning light moves material interconnecting nanolayers silicon dioxide infrared radiation ..  :    Business\n",
      "regions mars could made habitable material silica aerogel -- mimics earth 's atmospheric greenhouse effect , according study b .  :    Tech\n",
      "hold onto earthbound buns scientists may found way make mars habitable according new study key ? material called ...  :    Medical\n",
      "technique could produce habitable regions red planet potentially allow life develop thrive thanks photosynthesis  :    Tech\n",
      "video showing unidentified elderly man hearing problem escaping unhurt coming goods train bagalkot railway station four  :    Tech\n",
      "team national centre biological sciences ncbs , bengaluru , found rich colour fruits leaves plants indirectly controlled ...  :    Entertainment\n",
      "race thats remembered show oneupmanship cold war , united states america soviet union aimed high outer space ...  :    Tech\n",
      "july 20 1969 apollo 11 mission conquered new frontier .  :    Tech\n",
      "thanks obsessed older brother tracking journey moon better part year cutting pasting colour photos pataudi , ...  :    Tech\n",
      "science news iconic images like earthrise blue marble helped us understand place universe  :    Tech\n",
      "july 20 1969 eagle landed moon , carrying two astronauts board . one primary objectives mission return samples moon ...  :    Tech\n",
      "washington accumulation proteins brain marker indicate onset alzheimers , new study analysed ways .  :    Medical\n",
      "new research provided biological clues women may likely men develop alzheimers disease common form ..  :    Medical\n",
      "scientists study alzheimers disease mostly ignored role seizures beginning change , new research suggests may provide ...  :    Medical\n",
      "addis ababa july 20 xinhua ) -- african union ( au ) saturday said deploy healthcare experts respond ebola virus outbreak ...  :    Medical\n",
      "wednesday made emergency declaration yearold outbreak rare move usually leads global attention aid .  :    Medical\n",
      "ebola could spread anywhere world plane declared disease global emergency  :    Medical\n",
      "armed soldiers border enforced fever checks handwashing bleach panic-stricken traders worried whether business would risky ...  :    Medical\n",
      "unaidss global aids update communities centre report , highlights lack funding tackling hiv aids globally . report notes ...  :    Medical\n",
      "decrease resources plus disparity access prevention care impeding global fight hivaids .  :    Entertainment\n",
      "number deaths attributed aids virus declined country according chief health services ministry health charles ...  :    Medical\n",
      "international federation red cross red crescent societies ifrc welcomed decision , saying move draw much-needed support ...  :    Entertainment\n",
      "ebola outbreak democratic republic congo declared public health emergency international concern world health ...  :    Medical\n",
      "congolese health worker administers ebola vaccine man himbi health centre goma democratic republic congo july 17 , 2019 . ( reuters ) .  :    Medical\n",
      "world health organization wednesday declared congo 's ebola outbreak international health emergency , sounding rarely used global ...  :    Medical\n",
      "week first ebola case confirmed goma major regional crossroads northeastern congo rwandan border international airport  :    Medical\n"
     ]
    }
   ],
   "source": [
    "for link in testing_headlines.keys():\n",
    "    print(link)\n",
    "    for i in range(len(testing_headlines[link])):\n",
    "        if(len(testing_headlines[link]['TITLE'][i])>25):\n",
    "            print(testing_headlines[link]['TITLE'][i],\" :   \",categories[prediction[link][i]])"
   ]
  },
  {
   "cell_type": "code",
   "execution_count": 28,
   "metadata": {},
   "outputs": [],
   "source": [
    "test_data = pd.read_csv('./test.csv')"
   ]
  },
  {
   "cell_type": "code",
   "execution_count": 29,
   "metadata": {},
   "outputs": [],
   "source": [
    "for test_, i in zip(test_data['TITLE'],range(100)):\n",
    "    test_data.loc[i,('TITLE')] = normalise_text(test_)"
   ]
  },
  {
   "cell_type": "code",
   "execution_count": 30,
   "metadata": {},
   "outputs": [],
   "source": [
    "test_cv_matrix = cv.transform(test_data['TITLE'])\n",
    "test_tv_matrix = tv.transform(test_cv_matrix)"
   ]
  },
  {
   "cell_type": "code",
   "execution_count": null,
   "metadata": {
    "scrolled": true
   },
   "outputs": [],
   "source": []
  },
  {
   "cell_type": "code",
   "execution_count": 31,
   "metadata": {},
   "outputs": [],
   "source": [
    "test_prediction = model.predict(test_tv_matrix)"
   ]
  },
  {
   "cell_type": "code",
   "execution_count": 32,
   "metadata": {},
   "outputs": [
    {
     "name": "stdout",
     "output_type": "stream",
     "text": [
      "lockheed martin pays 61m space operations biz  :    Tech\n",
      "miley cyruss tour bus goes proper flames taking bangerz tour ..  :    Entertainment\n",
      "statement ipcc working group report  :    Tech\n",
      "hurricane arthur prompts flash flood watch long island  :    Entertainment\n",
      "bike bus walk week calendar full free cheap activities  :    Entertainment\n",
      "hilarious video vin diesel breakdances jimmy fallon  :    Entertainment\n",
      "nasa sets preview briefing tv schedule space station spacewalk  :    Tech\n",
      "ge adds jobs boost bid alstom  :    Business\n",
      "new htc one m8 2014 vs iphone 5s comparison review  :    Tech\n",
      "climate expert rips govt meddling un report  :    Tech\n",
      "lgs dutch site leaks complete specs g3  :    Tech\n",
      "4 cases ebola turn guineas capital  :    Medical\n",
      "eminem rihanna announce monster ” tour dates  :    Entertainment\n",
      "legendary ending met mother  :    Entertainment\n",
      "things know tomorrows tax deadline  :    Business\n",
      "beyonce jay z release run ' tour trailer & bey 's wearing bloodied ...  :    Entertainment\n",
      "paul bettany talks friendship johnny depp transcendence '  :    Entertainment\n",
      "premarket stocks flounder wall streets wake ; yen rises boj optimism  :    Business\n",
      "erectile dysfunction drugs help boys muscular dystrophy  :    Medical\n",
      "edward snowden reforms vindicate classified data leaks huffingtonpost  :    Business\n",
      "googles android boss weeks news huge  :    Tech\n",
      "blackberry beats expectations makes progress turnaround  :    Tech\n",
      "industry slips overall ford hyundai gain new car quality study  :    Tech\n",
      "aidscuring device needs testing egypt 's army says  :    Medical\n",
      "tribunes newsbeat app lets robots read news drive  :    Tech\n",
      "ten percent us deaths workingage adults linked alcohol  :    Medical\n",
      "lafarge holcim see merger divestments mainly europe  :    Business\n",
      "nicki minaj suffers wardrobe malfunction 2014 mtv vma awards video  :    Entertainment\n",
      "fda relents battle duchenne muscular dystrophy  :    Medical\n",
      "nike 3q gets boost higher prices demand  :    Business\n",
      "avengers 2s mark ruffalo hints hulk love interest  :    Entertainment\n",
      "valeant pharmaceuticals international incs share price , raises bid ...  :    Business\n",
      "googles gmail celebrates 10th birthday  :    Tech\n",
      "versailles valentino big day kim kanye - wnct  :    Entertainment\n",
      "paying 30k look like kim kardashian like hookers la confidentialculture  :    Entertainment\n",
      "eve marries fiance maximillion cooper  :    Entertainment\n",
      "singapore bans archie comic book gay themes , highlighting anti-lgbt ...  :    Entertainment\n",
      "petsmart gains jana stake lorillard rallies  :    Business\n",
      "climate change inaction laughing matter  :    Tech\n",
      "barclays get rid 14000 jobs wboctv 16 , delmarvas news leader , fox ...  :    Business\n",
      "install android 442 kitkat revolutionary s5 rom samsung galaxy ...  :    Tech\n",
      "amazon confirms ordering fewer hachette books blocking preorders  :    Tech\n",
      "gilead hep c combo gets breakthrough therapy status priority review fda  :    Medical\n",
      "stocks end week lower rate hike chatter sparse macro news  :    Business\n",
      "gentlemans guide love murder ' nabs 10 tony nods  :    Entertainment\n",
      "chavez biopic shown 1000 calif farm workers  :    Entertainment\n",
      "walgreens pays diabetic employee 180k  :    Entertainment\n",
      "kate mara didnt get meet costar johnny depp  :    Entertainment\n",
      "treasury sell lloyds shares  :    Business\n",
      "supreme courts knockout blow aereo 's whole business violates copyright law  :    Entertainment\n",
      "eurusd rallies despite bearish inflation data  :    Business\n",
      "washington state begins selling legal cannabis pot nation way  :    Business\n",
      "senegal closes land border guinea citing concern deadly ebola ..  :    Medical\n",
      "game thrones recap : fight tyrion 's life ?  :    Entertainment\n",
      "mighty morphin reboot rangers new power rangers ' movie works  :    Entertainment\n",
      "google inc rises mixed q2 results surprising management change  :    Tech\n",
      "gays face health challenges us report  :    Medical\n",
      "wes andersons best color palettes  :    Entertainment\n",
      "android tv reboot google tv  :    Tech\n",
      "freddie prinze jr rips kiefer sutherland  :    Entertainment\n",
      "march npd ps4 beats xbox one ) , titanfall smashes software charts  :    Tech\n",
      "etihad unveils airbus a380boeing 787 luxury residence ' innovations  :    Business\n",
      "nasas ladee lunar explorer crashes moon planned  :    Tech\n",
      "alcoa q2 profit soars 157  :    Business\n",
      "2nd captain america film proves better 1st modernday issues  :    Entertainment\n",
      "robert pattinson han solo star wars ? '  :    Entertainment\n",
      "5yearold hacks xbox , becomes microsoft 'security researcher '  :    Tech\n",
      "pregnant christina aguilera bares racy nude spread v magazine  :    Entertainment\n",
      "chicago ranks 15 annual list fittest cities  :    Medical\n",
      "netflix ups prices 1 new subscribers w/video )  :    Entertainment\n",
      "2 new ebola deaths confirmed africa  :    Medical\n",
      "sc business notebook automation firm plans sc . office  :    Business\n",
      "normal heart : tv review  :    Entertainment\n",
      "game thrones season 4 spoilers : purple wedding 'as memorable last ...  :    Entertainment\n",
      "cdc finds forgotten vials smallpox  :    Medical\n",
      "demand suvs pickup trucks drives july auto sales canada  :    Business\n",
      "finding aliens possible 20 years funding right astronomers  :    Tech\n",
      "launch date samsung galaxy note 4 3 september  :    Tech\n",
      "pixies classic gigantic ' backs apple 's new iphone ad  :    Tech\n",
      "wrapup 1us clarifies lightly processed oil drillers export  :    Business\n",
      "lindsay lohan slams reports shes dating married man  :    Entertainment\n",
      "bankrupt bitcoin exchange mt gox finds 200000 missing bitcoins  :    Business\n",
      "weibo shares jump market debut  :    Business\n",
      "diabetesrelated complication rates dropped dramatically cdc says  :    Medical\n",
      "spacex launches dragon capsule iss  :    Tech\n",
      "oil slips closer 103 supply fears recede  :    Business\n",
      "active intension gainer home depot inc. ( nyse : hd ) , lowe 's companies ...  :    Business\n",
      "eminem tops spotifys 40million-listener list  :    Entertainment\n",
      "macklemore nonapologizes jew costume reminding us ..  :    Business\n",
      "lg g3 smartphone expected may 27 event  :    Tech\n",
      "ebays 3 billion tax charge clouds strong earnings growth  :    Business\n",
      "xmen : days future past ' gets one last trailer  :    Entertainment\n",
      "giacometti works block sothebys auction  :    Entertainment\n",
      "samsung plans release standalone smartwatch  :    Tech\n",
      "instagram hits 200 million users week  :    Tech\n",
      "colorado cracking highvolume pot patients  :    Medical\n",
      "facebook says use mark zuckerbergs facebook page reveal big ..  :    Tech\n",
      "big brother 2014 spoilers live recap first evictee is..  :    Entertainment\n",
      "google rumored buying twitch  :    Tech\n",
      "digitalglobe aids search missing malaysian jet  :    Business\n"
     ]
    }
   ],
   "source": [
    "for i in range(100):\n",
    "    print(test_data.loc[i,('TITLE')],\" :   \",categories[test_prediction[i]])"
   ]
  },
  {
   "cell_type": "code",
   "execution_count": null,
   "metadata": {},
   "outputs": [],
   "source": []
  }
 ],
 "metadata": {
  "kernelspec": {
   "display_name": "Python 3",
   "language": "python",
   "name": "python3"
  },
  "language_info": {
   "codemirror_mode": {
    "name": "ipython",
    "version": 3
   },
   "file_extension": ".py",
   "mimetype": "text/x-python",
   "name": "python",
   "nbconvert_exporter": "python",
   "pygments_lexer": "ipython3",
   "version": "3.7.3"
  }
 },
 "nbformat": 4,
 "nbformat_minor": 2
}
