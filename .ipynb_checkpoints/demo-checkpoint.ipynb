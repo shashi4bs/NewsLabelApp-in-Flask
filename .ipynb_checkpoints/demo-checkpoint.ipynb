{
 "cells": [
  {
   "cell_type": "code",
   "execution_count": 1,
   "metadata": {},
   "outputs": [
    {
     "name": "stderr",
     "output_type": "stream",
     "text": [
      "[nltk_data] Downloading package punkt to /home/shashi/nltk_data...\n",
      "[nltk_data]   Package punkt is already up-to-date!\n",
      "[nltk_data] Downloading package stopwords to /home/shashi/nltk_data...\n",
      "[nltk_data]   Package stopwords is already up-to-date!\n"
     ]
    }
   ],
   "source": [
    "from lib import *\n",
    "from features import *"
   ]
  },
  {
   "cell_type": "code",
   "execution_count": null,
   "metadata": {},
   "outputs": [],
   "source": []
  },
  {
   "cell_type": "code",
   "execution_count": 2,
   "metadata": {},
   "outputs": [],
   "source": [
    "url = [\"https://www.bbc.co.uk/\",\"https://in.yahoo.com/?p=us\",'https://gadgets.ndtv.com/news','https://news.google.com/?hl=en-IN&gl=IN&ceid=IN:en']"
   ]
  },
  {
   "cell_type": "code",
   "execution_count": 3,
   "metadata": {},
   "outputs": [],
   "source": [
    "categories = ['Medical','Entertainment','Business','Tech']"
   ]
  },
  {
   "cell_type": "code",
   "execution_count": 4,
   "metadata": {},
   "outputs": [],
   "source": [
    "headlines = []\n",
    "for i in range(len(url)):\n",
    "    headlines.append(extract_hedlines(url[i]))"
   ]
  },
  {
   "cell_type": "code",
   "execution_count": null,
   "metadata": {},
   "outputs": [],
   "source": []
  },
  {
   "cell_type": "markdown",
   "metadata": {},
   "source": [
    "# considering it to be a specific page for an article \n",
    "for i in range(len(headlines)):\n",
    "    if(len(headlines[i][0])>25):\n",
    "        headlines[i] = headlines[i][0]\n",
    "    else:\n",
    "        headlines[i] = headlines[i][1:]"
   ]
  },
  {
   "cell_type": "code",
   "execution_count": 5,
   "metadata": {},
   "outputs": [],
   "source": [
    "for i in range(len(headlines)):\n",
    "    for lines, j in zip(headlines[i], range(len(headlines[i]))):\n",
    "        headlines[i][j] = normalise_text(lines)"
   ]
  },
  {
   "cell_type": "markdown",
   "metadata": {},
   "source": [
    "# converting lists of headlines to dataframe"
   ]
  },
  {
   "cell_type": "code",
   "execution_count": 6,
   "metadata": {},
   "outputs": [],
   "source": [
    "testing_headlines ={}\n",
    "for i in range(len(headlines)):\n",
    "    testing_headlines[url[i]] = pd.DataFrame({\"TITLE\":headlines[i]})"
   ]
  },
  {
   "cell_type": "code",
   "execution_count": 7,
   "metadata": {},
   "outputs": [
    {
     "data": {
      "text/plain": [
       "dict_keys(['https://www.bbc.co.uk/', 'https://in.yahoo.com/?p=us', 'https://gadgets.ndtv.com/news', 'https://news.google.com/?hl=en-IN&gl=IN&ceid=IN:en'])"
      ]
     },
     "execution_count": 7,
     "metadata": {},
     "output_type": "execute_result"
    }
   ],
   "source": [
    "testing_headlines.keys()"
   ]
  },
  {
   "cell_type": "markdown",
   "metadata": {},
   "source": [
    "# load trained model, count_vectorizer, tf-idf"
   ]
  },
  {
   "cell_type": "code",
   "execution_count": 8,
   "metadata": {},
   "outputs": [],
   "source": [
    "model = pickle.load(open('model.pkl', 'rb'))\n",
    "cv = pickle.load(open('cv.pkl', 'rb'))\n",
    "tv = pickle.load(open('tv.pkl', 'rb'))"
   ]
  },
  {
   "cell_type": "code",
   "execution_count": 9,
   "metadata": {},
   "outputs": [],
   "source": [
    "processed_data = {}\n",
    "transformer = Transformer(cv, tv)\n",
    "for link in testing_headlines.keys():\n",
    "    processed_data[link] = transformer.transform(testing_headlines[link]['TITLE'])"
   ]
  },
  {
   "cell_type": "code",
   "execution_count": 10,
   "metadata": {},
   "outputs": [],
   "source": [
    "prediction = {}\n",
    "for link in testing_headlines.keys():\n",
    "    prediction[link] = model.predict(processed_data[link])"
   ]
  },
  {
   "cell_type": "code",
   "execution_count": 11,
   "metadata": {},
   "outputs": [
    {
     "name": "stdout",
     "output_type": "stream",
     "text": [
      "https://www.bbc.co.uk/\n",
      "al sends earn uncle willys willy locks girlfriend bedroom  :    Medical\n",
      "crate guns disappears thomas sees opportunity move world  :    Business\n",
      "rap artist nathaniel determined make despite size  :    Medical\n",
      "ross challenges king country help friend whilst cornwall burns revolution  :    Medical\n",
      "clare balding presents team captains jennifer saunders oti mabuse take court  :    Medical\n",
      "fright night caitlin hannah josh !  :    Medical\n",
      "dame emma thompson talks ali plumb greatest movie moments  :    Medical\n",
      "cant interview people agree . ''  :    Medical\n",
      "jacob delves world psychedelics talks ayahuasca comedy club  :    Medical\n",
      "brand new music national floating points girl band  :    Medical\n",
      "amber mark performs cover swvs weak 1xtra live lounge  :    Medical\n",
      "towies gatsby spills stealing pete wicks pizza making music joey essex  :    Medical\n",
      "world celebrates 50th anniversary moon landing  :    Tech\n",
      "radio exchanges reveal iran tanker seizure confrontation  :    Business\n",
      "40yearold pacquiao becomes world champion  :    Medical\n",
      "friends moved away stayed sea '  :    Tech\n",
      "zidane bale close ' real madrid exit  :    Business\n",
      "telltale sign youve much sugar  :    Tech\n",
      "iranuk radio exchanges tanker emerge  :    Business\n",
      "ireland hopes backstop unnecessary  :    Tech\n",
      "world celebrates 50th anniversary moon landing  :    Tech\n",
      "lowry thinking holding claret jug  :    Business\n",
      "pacquiao beats thurman points  :    Business\n",
      "england beaten world cup semifinal  :    Medical\n",
      "five remarkable places eat world  :    Tech\n",
      "brit whose moon photos made nasa take notice  :    Tech\n",
      "lion king remake like bizarre attenborough doc  :    Medical\n",
      "apollo 11 brought humanity together  :    Medical\n",
      "woman apollo 11 control room  :    Entertainment\n",
      "created seat table us everest  :    Tech\n",
      "mum breasts removed cancer diagnosis error  :    Entertainment\n",
      "shot face six times survived  :    Medical\n",
      "musical instruments famous faces play  :    Medical\n",
      "female conductor makes proms history  :    Medical\n",
      "try hand fiendishly tricky music quiz  :    Medical\n",
      "mark hamill surprised icon award comic con  :    Medical\n",
      "hong kong actor stabbed stage china  :    Medical\n",
      "simpsons writers predict future  :    Medical\n",
      "go behind scenes facebooks difficult year '  :    Tech\n",
      "jennifer saunders scores unbelievable goal  :    Medical\n",
      "dramatic moment lioness protects young  :    Medical\n",
      "seven fitness truths actually false  :    Entertainment\n",
      "best place world eat risotto  :    Medical\n",
      "nine secrets healthy happy relationship  :    Medical\n",
      "graduates need mental health support  :    Entertainment\n",
      "cycle route blocked mountain fly-tipped waste  :    Business\n",
      "used selling cannabis way fit  :    Tech\n",
      "reallife spiderman abseils high-rise escape fire  :    Business\n",
      "iran tanker crisis avoidable  :    Business\n",
      "would pay less tax moved abroad  :    Business\n",
      "man utd reject inters 54m lukaku bid  :    Business\n",
      "hearts broken england 's agonising semi-final defeat  :    Medical\n",
      "ibrahimovic scores perfect hattrick la  :    Medical\n",
      "big cities battling extreme heat  :    Tech\n",
      "realistic cinemas famous spacesuits  :    Medical\n",
      "flight shaming movement taking  :    Business\n",
      "rare warhol snaps ozzy le bon go sale  :    Medical\n",
      "best films watch cinema week  :    Medical\n",
      "artists making bricks human urine  :    Medical\n",
      "archaeologists find 1200year-old mosque desert  :    Tech\n",
      "hundreds allege jesus army sexual physical abuse  :    Medical\n",
      "family get 1m fine arguing taxes god 's '  :    Business\n",
      "timesaving recipe hacks seriously good results  :    Medical\n",
      "freezer aisle friend simple recipes  :    Medical\n",
      "seven easy ways get pizza life  :    Medical\n",
      "ed sheeran album might know  :    Medical\n",
      "beyoncs lion king album good ?  :    Medical\n",
      "super bowl winner dies heartstroke aged 32  :    Medical\n",
      "teens wish dream ride ' prom comes true  :    Medical\n",
      "escaped tiger takes nap mans bed  :    Medical\n",
      "super smart animals clever  :    Tech\n",
      "incredibly hard solar system quiz  :    Tech\n",
      "paying attention weeks news  :    Medical\n",
      "read approach external linking  :    Tech\n",
      "https://in.yahoo.com/?p=us\n",
      "sheila dikshit finally made electoral debut 1984 member cong winning kannauj constituency thus kicking 30yr-long career politics .  :    Medical\n",
      "princes brother rupesh , died drowned beach toronto monday . rupesh got married two months ago wife reportedly join soon .  :    Medical\n",
      "horoscope week july 21july 27 , 2019 ) : libra , curiously enough , wish make right financial decisions , answer may lie dream , perhaps waking day-dream . emotional tie becoming intense , try keep feet ground .  :    Tech\n",
      "gandii baat depiction reallife incidents one speaks says altbalaji  :    Medical\n",
      "training exercise cadet prison guards required female inmates expose genitals deemed legal.the exercise took place lincoln correctional centre illinois 2011. court appeals delivered ruling case earlier week.inmates , according court papers , “ required stand naked , nearly shoulder shoulder eight-10 inmates room could seen others conducting searches , including male officers. “ menstruating inmates remove tampons sanitary pads front others , given replacements , many got blood bodies clothing blood floor. “ naked inmates stand barefoot floor dirty menstrual blood raise breasts , lift hair , turn around , bend , spread buttocks vaginas , cough. ” searches , noted dissenting district judge john z lee court filing , took place beauty shop mirrored walls bathroom open entry , meaning people , including “ male female cadets , correctional officers , civilians ” could see searches.inmates , judge lee writes court document , subjected “ derogatory comments gestures women ’ bodies odours ” , included called “ dirty b****** ” , “ f****** disgusting ” told “ smell like death ” “ deserve ” .plaintiffs case maintained search violated fourth eighth amendment rights . however , court appeals affirmed district court ’ ruling deemed exercise legal , invoking precedent deeming search “ visual inspection ” “ physical intrusion ” , noted washington post.the dissenting judge highlighted fact search conducted , suggested exercise warrant “ level deference search conducted due concerns smuggled weapons contraband ” .the court appeals ’ decision comes los angeles county agreed settle $ 53m lawsuit former inmates group strip searches , los angeles times reported .  :    Entertainment\n",
      "carters edmonton alberta part tour organised legelela safaris shot killed lion .  :    Medical\n",
      "hrithik roshan mrunal thakurs film performing best mumbai delhi uttar pradesh . fact , super 30 based life mathematician genius anand kumar declared tax-free rajasthan , bihar well .  :    Entertainment\n",
      "growing hated girl menstruation felt like punishment  :    Medical\n",
      "nach baliye 9 prince breaks wife yuvika informs salman khan brothers death  :    Medical\n",
      "horoscope week july 21july 27 , 2019 ) : leo , scorpio , aries , libra , virgo , sagittarius- check astrology prediction  :    Tech\n",
      "gandii baat season 3 rushali arora returns television altbalaji erotic antholgy  :    Medical\n",
      "women made expose genitals prison training exercise legal demand , us court rules  :    Entertainment\n",
      "daughter disowns trophyhunting dad kissed partner beside slain lion  :    Medical\n",
      "super 30 box office collection day 8 hrithik roshan starrer biopic remains strong second friday collects rs 80.36 crore  :    Medical\n",
      "36 still struggle believe periods arent impure . 's .  :    Medical\n",
      "https://gadgets.ndtv.com/news\n",
      "marvels if.. ? casts jeffrey wright , reveals extended mcu voice cast , release summer 2021 disney+ — san diego comic-con 2019  :    Medical\n",
      "hawkeye series introduce kate bishop release autumn 2021 disney — san diego comic-con 2019  :    Medical\n",
      "loki tv series follows avengersera loki release spring 2021 disney+ — san diego comic-con 2019  :    Medical\n",
      "wandavision adds captain marvel character release spring 2021 disney — san diego comic-con 2019  :    Medical\n",
      "blade reboot set mahershala ali marvel announced san diego comiccon 2019  :    Medical\n",
      "black widow movie announced gets may 2020 release date san diego comic-con 2019  :    Medical\n",
      "thor 4 announced thor love thunder natalie portman female thor , gets november 2021 release date — san diego comic-con 2019  :    Medical\n",
      "doctor strange 2 announced doctor strange multiverse madness gets may 2021 release date san diego comic-con 2019  :    Medical\n",
      "shangchi movie part marvels phase 4 , gets february 2021 release date — san diego comic-con 2019  :    Medical\n",
      "falcon winter soldier logo revealed release autumn 2020 disney — san diego comic-con 2019  :    Medical\n",
      "eternals movie part marvels phase 4 gets november 2020 release date — san diego comic-con 2019  :    Medical\n",
      "expanse season 4 release date trailer unveiled amazon prime video san diego comiccon 2019  :    Medical\n",
      "new westworld season 3 trailer barges human world san diego comiccon 2019  :    Medical\n",
      "star trek picard trailer unveiled release date pushed san diego comic-con 2019  :    Medical\n",
      "star trek lower decks cast first look unveiled san diego comic-con 2019  :    Medical\n",
      "star trek discovery season 3 casts david ajala 6 new short treks announced — san diego comic-con 2019  :    Medical\n",
      "watchmen trailer hbo releases look dc superhero series san diego comiccon 2019  :    Medical\n",
      "tiktok testing instagraminspired features report  :    Tech\n",
      "huawei y9 prime 2019 india launch soon amazon teaser reveals  :    Tech\n",
      "blanket ban cryptocurrencies india government says  :    Tech\n",
      "https://news.google.com/?hl=en-IN&gl=IN&ceid=IN:en\n",
      "language amp region english ( india )  :    Tech\n",
      "cricket news jasprit bumrah rested whitebal leg tour . senior opener shikhar dhawan made comeback india 's limited overs squad ...  :    Medical\n",
      "follow live updates selectors announce team india squad tour west indies  :    Tech\n",
      "man changed fate indian cricket captain three prestigious icc trophies mahendra singh dhoni deserves accolades ...  :    Medical\n",
      "cricket news intense speculation dhoni already retired test format , played last odi india world cup ...  :    Tech\n",
      "ms dhoni likely opt tour help india solve middle order conundrum - latest india news opindia.com .  :    Tech\n",
      "sheila dikshit admitted fortis escorts hospital critical condition died saturday  :    Medical\n",
      "political leaders wellwishers including leaders congress 's rival bjp , came three-time delhi chief minister sheila dikshit 's home south delhi ...  :    Business\n",
      "former chief minister delhi 19982013 ) veteran congress leader sheila dikshit passed away age 81 national capital saturda .  :    Tech\n",
      "excerpt autobiography late sheila dikshit citizen delhi : times , life ' .  :    Tech\n",
      "sheila dikshit dies 81 psephologist founder cvoter , yashwant deshmukh , pays tribute sheila dikshit , longest-serving chief minister delhi ...  :    Tech\n",
      "india news former chief minister delhi senior congress leader sheila dikshit passed away delhi age 81 years admitted private ...  :    Tech\n",
      "chandrayaan 2 latest news former president india late dr apj abdul kalam also aerospace scientist , always wise suggestions ...  :    Tech\n",
      "despite recent disappointment aborted launch highprofile lunar mission indian space research organisation isro 's track record ...  :    Tech\n",
      "india news indian space research organisation isro ) , late saturday said performance chandrayaan-2—whose first launch july 15 ...  :    Tech\n",
      "isro tried launch chandrayaan 2 wee hours july 15 251 time , isro fixed time eagerly-awaiting launch ...  :    Tech\n",
      "indias moon mission gslv mk iii takes look important moon missions time conducted different countries .  :    Tech\n",
      "mamata banerjee addressing thousands gathered party trinamool congress rally kolkata martyrs day ' . accused bjp-led ...  :    Business\n",
      "west bengal chief minister mamata banerjee kicked mega martyrs day rally kolkata today expected launch poll campaign ..  :    Business\n",
      "tmc kolkata rally mamata banerjees mega show strength attains much importance rally first gathering organised trinamool ...  :    Business\n",
      "kolkata west bengal chief minister mamata banerjee whose party trinamool congress ( tmc ) embroiled intense turf war bharatiya janata ...  :    Medical\n",
      "bengal chief minister mamata banerjee today accused bjp making inroads state money police evm ( electronic voting machines ) ...  :    Business\n",
      "yogi adityanath visited uttar pradeshs sonbhadra 10 people died shootout file )  :    Medical\n",
      "uttar pradesh chief minister yogi adityanath today met families 10 tribal farmers killed shootout sonbhadra district week promised ..  :    Business\n",
      "section 144 imposed area opposition politicians stopped meeting victims families  :    Business\n",
      "uttar pradesh chief minister yogi adityanath sunday accused congress shedding crocodile tears met family members 10 people shot dead .  :    Medical\n",
      "uttar pradesh chief minister yogi adityanath visit sonbhadra tomorrow 10 people killed shootout week land dispute chief ..  :    Business\n",
      "india news lucknow uttar pradesh chief minister yogi adityanath sunday visit ubbah village sonbhadra district meet families 10 people ...  :    Business\n",
      "fire broke churchill chamber building near taj mahal hotel south mumbais colaba  :    Medical\n",
      "one person killed fire broke fourstorey building near taj mahal palace hotel south mumbais colaba today . firefighters brought ...  :    Medical\n",
      "fire broke sunday third floor churchill chamber building near taj mahal hotel mumbais colaba killing one person others inside building ...  :    Medical\n",
      "fire broke churchill chamber fourstoreyed building near mumbai 's taj hotel sunday .  :    Medical\n",
      "fire broke third floor churchill chamber building merryweather road  :    Medical\n",
      "one person died 14 people rescued fire broke third floor churchill chamber building merryweather road near taj mahal .  :    Medical\n",
      "cricket news player question specifically requested wife stay permissible period 15 days shot ..  :    Medical\n",
      "new zealand finished world cup runnersup two consecutive occasions  :    Tech\n",
      "craig mcmillan called new zealand team special unit plays lot humility sportsmanship  :    Medical\n",
      "ben stokes played unbeaten knock 84 final new zealand july 14 lords  :    Medical\n",
      "helping england claim maiden world cup title ben stokes received nomination new zealander year ' award .  :    Medical\n",
      "former zimbabwe batsman grant flower believes icc swayed extent zimbabwe crickets chequered past decided suspend ..  :    Entertainment\n",
      "garg mla wazirpur constituency 2003 2008 president delhi bjp two years removed post 200  :    Business\n",
      "former delhi bjp president mange ram garg died morning died 730 private hospital , family said statement .  :    Business\n",
      "reported mange ram garg suffering agerelated ailments  :    Entertainment\n",
      "former delhi bjp chief mange ram garg died around 730 action balaji hospital paschim vihar north delhi . keeping much well due ...  :    Entertainment\n",
      "bharatiya janata party leader mange ram garg died delhi sunday morning pti reported former president party 's delhi unit , garg died around ...  :    Business\n",
      "west bengal chief minister trinamool congress chief says priyanka wrong . ”  :    Business\n",
      "priyanka gandhi sonbhadra visit live updates addressing congress workers priyanka gandhi said purpose served sonbhadra ...  :    Tech\n",
      "twelve members affected families sonbhadra met congress general secretary priyanka gandhi guest house senior party leader ajay rai ..  :    Business\n"
     ]
    },
    {
     "name": "stdout",
     "output_type": "stream",
     "text": [
      "priyanka gandhi vadra requested chief minister yogi adityanath keep security minimum visits state convenience  :    Business\n",
      "priyanka gandhi vadra congress general secretary east ) , spent night mirzapur state guest house refused furnish bail bond trying ...  :    Entertainment\n",
      "toll floods assam bihar touched 156 saturday according state governments daily bulletins . assam , 12 people died ...  :    Entertainment\n",
      "according data reviewed hindustan times total number stonepelting cases registered nc-inc regime 2009 2014 2690 ...  :    Business\n",
      "new delhi major embarrassment imran khan pakistan prime minister received official welcome kind reserved foreign heads states ...  :    Business\n",
      "pakistan prime minister imran khan saturday arrived washington threeday visit meet president donald trump  :    Entertainment\n",
      "pakistan news pakistan celebrates maiden visit imran khan us seems trump administration cares little . reportedly , us official ...  :    Tech\n",
      "pakistani government authorities keen project austerity entire trip claimed total expense would us 60000  :    Tech\n",
      "imran khans maiden visit us pakistans prime minister “ weak substance ” nothing promise n't promised ...  :    Business\n",
      "uk government stepping pressure iran release british oil tanker seized strait hormuz incident sent tension soaring one ..  :    Business\n",
      "india news government approached iran release indian nationals among crew board britishflagged oil tanker seized tehran ...  :    Business\n",
      "india said saturday touch tehran secure release 18 indian nationals working britishflagged tanker seized iran strait ..  :    Business\n",
      "seize iranian oil tanker however legally justified seizure might take stringent precautions inevitable iranian retaliation , ...  :    Business\n",
      "boarding holding tanker grace 1 gibraltar allegedly carrying iranian crude oil syria breach european union sanctions regime , ...  :    Business\n",
      "launched july 16 1969 made neil armstrong first man walk surface moon july 20 .  :    Tech\n",
      "indias lunar mission chandrayaan2 , launch tomorrow , approved manmohan singh 2008 .  :    Tech\n",
      "thanks obsessed older brother tracking journey moon better part year cutting pasting colour photos pataudi , ...  :    Tech\n",
      "conspiracy theories dime dozen claim nasa faked entire moon landing back 1969  :    Tech\n",
      "july 20 1969 eagle landed moon , carrying two astronauts board . one primary objectives mission return samples moon ...  :    Tech\n",
      "former first lady united states michelle obama friday condemned president donald trumps tweet targeting four democratic congresswomen ..  :    Medical\n",
      "former first lady michelle obama added voice friday democratic outcry following president donald trumps attack four ethnic minority ..  :    Medical\n",
      "washington us president donald trump renewed criticism four minority women lawmakers friday saying said horrible things ...  :    Medical\n",
      "ilhan omar sees president wants divide us basis race creed color need join fighting working people .  :    Tech\n",
      "cant left black americans alone resist presidents racism . citizens colours need resist , embrace activism .  :    Medical\n",
      "private lender hdfc bank saturday reported 1804 per cent increase consolidated net profit rs 5676.06 crore april-june quarter back ...  :    Business\n",
      "hdfc bank posted net profit rs 460144 crore corresponding quarter last year  :    Business\n",
      "kotak mahindra banks valuation climbed rs 299049 crore rs 2,86383.79 crore , hul moved rs 2489.52 crore rs 3,73384.88 crore .  :    Business\n",
      "new delhi six 10 valued indian companies suffered combined erosion 62,147.7 crore market valuation last week , ril tcs taking ...  :    Business\n",
      "new delhi six 10 valued indian companies suffered combined erosion rs 62147.7 crore market valuation last week , ril tcs ...  :    Business\n",
      "nofrills carrier indigo said july 20 seek shareholders approval upcoming annual general meeting expanding board ...  :    Business\n",
      "meeting spilled yesterday board considered announced airlines record earningsa 42 times yearon-year jump net profit ...  :    Business\n",
      "woman independent director board one several demands made indigos cofounder rakesh gangwal letter sebi earlier ...  :    Medical\n",
      "indigos board directors july 20 decided seek approval shareholders upcoming annual general meeting expand board ..  :    Business\n",
      "interglobe aviation parent company lowcost carrier indigo friday reported highest-ever profit tax rs 1203 crore april-june quarter .  :    Business\n",
      "credit rating agencies years assigned high ratings countrys infrastructure leasing amp ; financial services ( il & amp ; fs ) group companies despite ...  :    Business\n",
      "grant thornton india llp appointed conduct forensic audit credit rating agencies cras ) infrastructure leasing & amp ; financial services ( il & amp ; fs ) ...  :    Business\n",
      "market regulator sebi expanded probe role five credit rating agencies forensic audit mandated new board crisisridden ilamp ; fs ...  :    Business\n",
      "draft forensic audit report grant thornton engagement credit rating agencies ilampfs found instances meetings key employees ...  :    Business\n",
      "forensic audit credit ratings obtained crisishit infrastructure leasing financial services il & amp ; fs ) group entities erstwhile management ...  :    Business\n",
      "notions among business india perhaps pervasive deeply held one business government bit ...  :    Tech\n",
      "redmi k20 redmi k20 pro india launch realme x price india , xiaomi mi a3 debut grabbed headlines . everything made news world ...  :    Tech\n",
      "quite surprise xiaomi brand known offering valuefor-money smartphones , write open letter justify supposedly high price latest ...  :    Tech\n",
      "couple days ago redmi finally released muchawaited redmi k20 k20 pro phones india aggressive pricing great specs ...  :    Tech\n",
      "redmi k20 redmi k20 pro xiaomis latest launches india market starting price rs . 21,999 rs . 27,999 respectively . makes ...  :    Tech\n",
      "busy week smartphone enthusiasts launch xiaomi redmi k20 series smartphones along launch oppo k3 ...  :    Tech\n",
      "top five security privacy feature every whatsapp user needs know  :    Tech\n",
      "whatsapp one leading messaging platforms world service continues add new features like payments pip mode , group video calls et al ...  :    Tech\n",
      "whatsapp iphone could soon overtake android new feature seemingly revealed new leak  :    Tech\n",
      "communication application whatsapp may works possible update drastically change way users engaging app  :    Tech\n",
      "popular messaging app whatsapp caters 15 billion users , boasts features like payments , picture-in-picture mode , group video calls , ...  :    Tech\n",
      "handset available starting july 23 starting price rs 16990 amazon india website comes launch offers get bu  :    Tech\n",
      "set leaked pixel 4 pixel 4 xl screen protectors confirm return bezel large size mysterious oval cutout .  :    Tech\n",
      "googles forthcoming pixel 4 series smartphones giant bezels front device containing space kind mystery component ...  :    Tech\n",
      "two sets images related upcoming pixel 4 appeared today addition earlier renders showed smaller pixel 4 the.. ryne ...  :    Tech\n",
      "new set leaked images googles forthcoming pixel 4 smartphone surfaced web showing something 've expecting : 'll ...  :    Tech\n",
      "google pixel 4 due released october whilst initially relied independent parties google also releasing leaks .  :    Tech\n",
      "avengers endgames becomes highestgrossing film time breaking avatar 's nine year record .  :    Medical\n",
      "marvels avengers endgame finally dethroned james cameron 's avatar become highest-grossing film ever . studio 's comic-con panel ...  :    Medical\n",
      "marvel released new trailer avengers endgame yes , read right . months film 's release , studio put together trailer ...  :    Medical\n",
      "avengers endgame biggest film global box office beating james cameron 's avatar achieve feat . news announced marvel ...  :    Medical\n",
      "marvels avengers : endgame '' become highest-grossing film time weekend , parent company disney said statement saturday . smash ...  :    Medical\n",
      "marvels avengers endgame become highest-grossing film time weekend , parent company disney said statement saturday . smash hit ...  :    Medical\n",
      "priyanka chopra extended birthday vacation miami seen enjoying family yacht riding water scooter  :    Medical\n",
      "priyanka chopra slammed social media hypocrisy pictures smoking yacht went viral .  :    Medical\n",
      "looks like priyanka chopras birthday celebrations arent yet . pictures miami vacation rounds social media ...  :    Medical\n",
      "global icon priyanka chopra vacationing miami friends family actress extravagant birthday celebration group  :    Medical\n",
      "priyanka chopra chilling miami along family making birthday weekend picture desi girl smoking cigarette ..  :    Medical\n",
      "super 30 starring hrithik roshan expected cross 100-crore mark within second week release , reports bollywood trade analyst taran adarsh .  :    Tech\n",
      "super 30 box office collection super 30 facing stiff competition lion king also seen unprecedented growth friday saturday  :    Tech\n",
      "actor hrithik roshan saturday shared video instagram show young girl braving large crowd present gift hrithik also shared ...  :    Medical\n",
      "bollywood stars hrithik roshan mrunal thakur starrer super 30 one highly-anticipated movies year . superstar hrithik rep .  :    Medical\n",
      "kabir singh article 15 spider-man : far home , super 30 — successful box office since audiences coming ...  :    Medical\n",
      "dubai indianorigin stand-up comedian died stage due high level anxiety performing act front packed audience , according ...  :    Medical\n",
      "indianorigin standup comedian died stage due high level anxiety performing act front packed audience , according media ...  :    Medical\n",
      "indianorigin standup comedian died stage due high level anxiety performing act front packed audience dubai , according ...  :    Medical\n",
      "manjunath naidu originally chennai passed away collapsing stage .  :    Medical\n",
      "indian standup comedian died stage due high level anxiety performing act front packed audience according media ...  :    Medical\n",
      "indonesia open badminton highlights akane yamaguchi defeated pv sindhu final  :    Business\n",
      "indonesia open 2019 pv sindhu vs akane yamaguchi final highlights badminton match score : pv sindhu lost 15-21,16-21 akane yamaguchi .  :    Business\n",
      "badminton news pv sindhu dished another stunning performance world 5 recorded comfortable 21-19 , 21-10 win chen yu fei china ...  :    Business\n",
      "indonesia open 2019 final pv sindhu vs akane yamaguchi highlights pv sindhu went akane yamaguchi indonesia open final .  :    Tech\n",
      "indias pv . sindhu entered final indonesia open bwf tour super 1000 badminton tournament straight-game win england champion ...  :    Medical\n",
      "stay updated times india live updates indonesia open badminton final match pv sindhu akane yamaguchi  :    Tech\n",
      "tamil thalaivas look get vivo pro kabaddi season 7 winning start square hosts telugu titans campaigns first ..  :    Medical\n",
      "pro kabaddi league 2019 highlights u mumba beat telugu titans 3125 bengaluru bulls defeated patna pirates 34-32 opening day season ...  :    Tech\n",
      "pro kabaddi league 2019 highlights reigning champions bengaluru bulls made perfect start winning patna pirates .  :    Tech\n",
      "breakthrough season last year pawan kumar sehrawat confident encore getting bogged pressure  :    Business\n",
      "abhishek singhs super 10 inspired u mumba victory telugu titans opening match season 7  :    Medical\n",
      "umpire awarded england six runs freak overthrow last world cup final admitted made error given ...  :    Medical\n",
      "umpire awarded england six runs freak overthrow last world cup final admitted made error given ...  :    Medical\n",
      "colombo umpire awarded england six runs freak overthrow last world cup final admitted made error '' ...  :    Medical\n",
      "throw stumps deflected bat diving ben stokes tried complete second run raced boundary sri lankan umpire kumar ..  :    Medical\n",
      "colombo umpire awarded england six runs freak overthrow last world cup final admitted made error '' ...  :    Medical\n",
      "zinedine zidane says la liga giants poised offload welsh star gareth bale coming days bale left real madrids roster saturday 's 3-1 ...  :    Medical\n",
      "gareth bales time real madrid almost certainly head coach zinedine zidane revealed club working transferring 30year-old ...  :    Medical\n",
      "gareth bale could leaving real madrid soon tomorrow according zinedine zidane ahead kick vs bayern munich houston bale ...  :    Medical\n",
      "former real madrid leftback fabio coentrao stalling proposed move paok according jogo . coentrao , 31 , spent last season rio ave ...  :    Medical\n",
      "zinedine zidane disgrace comments gareth bale 's real madrid situation , player 's agent told espn fc .  :    Medical\n",
      "knew us wouldnt mark 50th anniversary apollo 11 without news countrys next trip moon . lockheed martin nasa ...  :    Tech\n",
      "washington nasa white house used 50th anniversary apollo 11 landing mark latest achievement development orion ..  :    Tech\n",
      "space capsule designed carry us astronauts back moon five years time ready vice-president mike pence revealed 50th anniversary ...  :    Tech\n",
      "natchez world celebrates 50th anniversary july 20 1969 , moon landing , folks paying attention achievement ...  :    Tech\n",
      "despite comparatively regular mission iss launch taking place 50th anniversary first successful manned moon mission  :    Tech\n",
      "story written cbs news amp used permission . three new crew members delivered space station soyuz ms-13 spacecraft ...  :    Tech\n",
      "second time year russian federal space agency roscosmos – launched three new crewmembers international space station ...  :    Tech\n",
      "huge asteroid named 2019 nj2 diameter nearly 2017 feet move towards earth today according nasas cneos ( center near earth ...  :    Tech\n",
      "qq23 nearearth asteroid diameter 568 metres pass within 75 mn km planet .  :    Tech\n",
      "day beginning end latest media reports turn true , supermassive asteroid named 2019 nj2 , gradually moving towards ...  :    Tech\n",
      "possible threat approaching earth today according nasa asteroid named '2019 nj2 ' expected come close earth . reports ...  :    Tech\n",
      "current year seen least three asteroids moving dangerously close earth namely 2019 nn3 , 2019 mb4 2019 mt2 . another asteroid , '2019 ...  :    Tech\n",
      "photo obtained nasa taken apollo 11 crew shows earthrise viewed lunar orbit prior landing july 20 1969 ho ) . washington ...  :    Tech\n",
      "things apollo 11 astronauts achieved moon landing 50 years ago might expected back earth tickets maharashtra state ..  :    Tech\n",
      "immensely proud first moon landing apollo 11 command module pilot michael collins 88 , believes 's need go back .  :    Medical\n",
      "india news things apollo 11 astronauts achieved moon landing 50 years ago might expected back earth tickets ...  :    Tech\n",
      "suffering low blood pressure hour daily exercise stay hydrated  :    Entertainment\n",
      "preliminary data vaccination congo suggest vaccine 975 efficacy preventing ebola .  :    Entertainment\n",
      "drc world health organization ) declared democratic republic congo 's ( drc ) ongoing ebola outbreak `` public health emergency ...  :    Entertainment\n",
      "wednesday made emergency declaration yearold outbreak rare move usually leads global attention aid .  :    Entertainment\n",
      "gaborone july 19 xinhua ) -- botswana 's health ministry friday announced country high alert ebola outbreak democratic republic ...  :    Entertainment\n",
      "urgent health emergency declared world health organisation following second-deadliest ebola outbreak history , ...  :    Entertainment\n",
      "ebola virus one challenge among many facing communities democratic republic congo drc , world health organization ( ) said ...  :    Entertainment\n",
      "ebola outbreak drc declared public health emergency international concern mean outbreak response  :    Entertainment\n",
      "decision taken following recent directive union ministry human resource development mhrd states union territories .  :    Business\n",
      "india national cricket team  :    Tech\n",
      "india national cricket team  :    Tech\n"
     ]
    }
   ],
   "source": [
    "for link in testing_headlines.keys():\n",
    "    print(link)\n",
    "    for i in range(len(testing_headlines[link])):\n",
    "        if(len(testing_headlines[link]['TITLE'][i])>25):\n",
    "            print(testing_headlines[link]['TITLE'][i],\" :   \",categories[prediction[link][i]])"
   ]
  },
  {
   "cell_type": "code",
   "execution_count": 12,
   "metadata": {},
   "outputs": [],
   "source": [
    "test_data = pd.read_csv('./test.csv')"
   ]
  },
  {
   "cell_type": "code",
   "execution_count": 13,
   "metadata": {},
   "outputs": [],
   "source": [
    "for test_, i in zip(test_data['TITLE'],range(100)):\n",
    "    test_data.loc[i,('TITLE')] = normalise_text(test_)"
   ]
  },
  {
   "cell_type": "code",
   "execution_count": 14,
   "metadata": {},
   "outputs": [],
   "source": [
    "processed_test_data = transformer.transform(test_data)"
   ]
  },
  {
   "cell_type": "code",
   "execution_count": 18,
   "metadata": {
    "scrolled": true
   },
   "outputs": [
    {
     "data": {
      "text/plain": [
       "<2x35940 sparse matrix of type '<class 'numpy.float64'>'\n",
       "\twith 2 stored elements in Compressed Sparse Row format>"
      ]
     },
     "execution_count": 18,
     "metadata": {},
     "output_type": "execute_result"
    }
   ],
   "source": [
    "processed_test_data.toarray()"
   ]
  },
  {
   "cell_type": "code",
   "execution_count": 15,
   "metadata": {},
   "outputs": [],
   "source": [
    "test_prediction = model.predict(processed_test_data)"
   ]
  },
  {
   "cell_type": "code",
   "execution_count": 16,
   "metadata": {},
   "outputs": [
    {
     "name": "stdout",
     "output_type": "stream",
     "text": [
      "lockheed martin pays 61m space operations biz  :    Medical\n",
      "miley cyruss tour bus goes proper flames taking bangerz tour ..  :    Medical\n"
     ]
    },
    {
     "ename": "IndexError",
     "evalue": "index 2 is out of bounds for axis 0 with size 2",
     "output_type": "error",
     "traceback": [
      "\u001b[0;31m---------------------------------------------------------------------------\u001b[0m",
      "\u001b[0;31mIndexError\u001b[0m                                Traceback (most recent call last)",
      "\u001b[0;32m<ipython-input-16-0782b0cb060e>\u001b[0m in \u001b[0;36m<module>\u001b[0;34m\u001b[0m\n\u001b[1;32m      1\u001b[0m \u001b[0;32mfor\u001b[0m \u001b[0mi\u001b[0m \u001b[0;32min\u001b[0m \u001b[0mrange\u001b[0m\u001b[0;34m(\u001b[0m\u001b[0;36m100\u001b[0m\u001b[0;34m)\u001b[0m\u001b[0;34m:\u001b[0m\u001b[0;34m\u001b[0m\u001b[0;34m\u001b[0m\u001b[0m\n\u001b[0;32m----> 2\u001b[0;31m     \u001b[0mprint\u001b[0m\u001b[0;34m(\u001b[0m\u001b[0mtest_data\u001b[0m\u001b[0;34m.\u001b[0m\u001b[0mloc\u001b[0m\u001b[0;34m[\u001b[0m\u001b[0mi\u001b[0m\u001b[0;34m,\u001b[0m\u001b[0;34m(\u001b[0m\u001b[0;34m'TITLE'\u001b[0m\u001b[0;34m)\u001b[0m\u001b[0;34m]\u001b[0m\u001b[0;34m,\u001b[0m\u001b[0;34m\" :   \"\u001b[0m\u001b[0;34m,\u001b[0m\u001b[0mcategories\u001b[0m\u001b[0;34m[\u001b[0m\u001b[0mtest_prediction\u001b[0m\u001b[0;34m[\u001b[0m\u001b[0mi\u001b[0m\u001b[0;34m]\u001b[0m\u001b[0;34m]\u001b[0m\u001b[0;34m)\u001b[0m\u001b[0;34m\u001b[0m\u001b[0;34m\u001b[0m\u001b[0m\n\u001b[0m",
      "\u001b[0;31mIndexError\u001b[0m: index 2 is out of bounds for axis 0 with size 2"
     ]
    }
   ],
   "source": [
    "for i in range(100):\n",
    "    print(test_data.loc[i,('TITLE')],\" :   \",categories[test_prediction[i]])"
   ]
  },
  {
   "cell_type": "code",
   "execution_count": null,
   "metadata": {},
   "outputs": [],
   "source": []
  }
 ],
 "metadata": {
  "kernelspec": {
   "display_name": "Python 3",
   "language": "python",
   "name": "python3"
  },
  "language_info": {
   "codemirror_mode": {
    "name": "ipython",
    "version": 3
   },
   "file_extension": ".py",
   "mimetype": "text/x-python",
   "name": "python",
   "nbconvert_exporter": "python",
   "pygments_lexer": "ipython3",
   "version": "3.7.3"
  }
 },
 "nbformat": 4,
 "nbformat_minor": 2
}
