{
 "cells": [
  {
   "cell_type": "code",
   "execution_count": 1,
   "metadata": {},
   "outputs": [],
   "source": [
    "from lib import *\n",
    "from features import *"
   ]
  },
  {
   "cell_type": "code",
   "execution_count": 2,
   "metadata": {},
   "outputs": [],
   "source": [
    "url = [\"https://www.bbc.co.uk/\",\"https://in.yahoo.com/?p=us\",'https://gadgets.ndtv.com/news','https://news.google.com/?hl=en-IN&gl=IN&ceid=IN:en']"
   ]
  },
  {
   "cell_type": "code",
   "execution_count": 3,
   "metadata": {},
   "outputs": [],
   "source": [
    "categories = ['Medical','Entertainment','Business','Tech']"
   ]
  },
  {
   "cell_type": "code",
   "execution_count": 4,
   "metadata": {},
   "outputs": [],
   "source": [
    "headlines = []\n",
    "for i in range(len(url)):\n",
    "    headlines.append(extract_hedlines(url[i]))"
   ]
  },
  {
   "cell_type": "code",
   "execution_count": null,
   "metadata": {},
   "outputs": [],
   "source": []
  },
  {
   "cell_type": "markdown",
   "metadata": {},
   "source": [
    "#considering it to be a specific page for an article \n",
    "for i in range(len(headlines)):\n",
    "    if(len(headlines[i][0])>25):\n",
    "        headlines[i] = headlines[i][0]\n",
    "    else:\n",
    "        headlines[i] = headlines[i][1:]"
   ]
  },
  {
   "cell_type": "code",
   "execution_count": null,
   "metadata": {},
   "outputs": [],
   "source": [
    "for i in range(len(headlines)):\n",
    "    for lines, j in zip(headlines[i], range(len(headlines[i]))):\n",
    "        headlines[i][j] = normalise_text(lines)"
   ]
  },
  {
   "cell_type": "markdown",
   "metadata": {},
   "source": [
    "# converting lists of headlines to dataframe"
   ]
  },
  {
   "cell_type": "code",
   "execution_count": null,
   "metadata": {},
   "outputs": [],
   "source": [
    "testing_headlines ={}\n",
    "for i in range(len(headlines)):\n",
    "    testing_headlines[url[i]] = pd.DataFrame({\"TITLE\":headlines[i]})"
   ]
  },
  {
   "cell_type": "code",
   "execution_count": null,
   "metadata": {},
   "outputs": [],
   "source": [
    "testing_headlines.keys()"
   ]
  },
  {
   "cell_type": "markdown",
   "metadata": {},
   "source": [
    "# load trained model, count_vectorizer, tf-idf"
   ]
  },
  {
   "cell_type": "code",
   "execution_count": null,
   "metadata": {},
   "outputs": [],
   "source": [
    "model = pickle.load(open('rfc_model.pkl', 'rb'))\n",
    "cv = pickle.load(open('cv.pkl','rb'))\n",
    "tv = pickle.load(open('tv.pkl','rb'))"
   ]
  },
  {
   "cell_type": "code",
   "execution_count": null,
   "metadata": {},
   "outputs": [],
   "source": [
    "cv_matrix = {}\n",
    "tv_matrix = {}\n",
    "for link in testing_headlines.keys():\n",
    "    cv_matrix[link] = cv.transform(testing_headlines[link]['TITLE']).toarray()\n",
    "    tv_matrix[link] = tv.transform(cv_matrix[link]).toarray()"
   ]
  },
  {
   "cell_type": "code",
   "execution_count": null,
   "metadata": {},
   "outputs": [],
   "source": [
    "prediction = {}\n",
    "for link in testing_headlines.keys():\n",
    "    prediction[link] = model.predict(tv_matrix[link])"
   ]
  },
  {
   "cell_type": "code",
   "execution_count": null,
   "metadata": {},
   "outputs": [],
   "source": [
    "for link in testing_headlines.keys():\n",
    "    print(link)\n",
    "    for i in range(len(testing_headlines[link])):\n",
    "        if(len(testing_headlines[link]['TITLE'][i])>25):\n",
    "            print(testing_headlines[link]['TITLE'][i],\" :   \",categories[prediction[link][i]])"
   ]
  },
  {
   "cell_type": "code",
   "execution_count": null,
   "metadata": {},
   "outputs": [],
   "source": [
    "test_data = pd.read_csv('./test.csv')"
   ]
  },
  {
   "cell_type": "code",
   "execution_count": null,
   "metadata": {},
   "outputs": [],
   "source": [
    "for test_, i in zip(test_data['TITLE'],range(100)):\n",
    "    test_data.loc[i,('TITLE')] = normalise_text(test_)"
   ]
  },
  {
   "cell_type": "code",
   "execution_count": null,
   "metadata": {},
   "outputs": [],
   "source": [
    "test_cv_matrix = cv.transform(test_data['TITLE'])\n",
    "test_tv_matrix = tv.transform(test_cv_matrix)"
   ]
  },
  {
   "cell_type": "code",
   "execution_count": null,
   "metadata": {
    "scrolled": true
   },
   "outputs": [],
   "source": []
  },
  {
   "cell_type": "code",
   "execution_count": null,
   "metadata": {},
   "outputs": [],
   "source": [
    "test_prediction = model.predict(test_tv_matrix)"
   ]
  },
  {
   "cell_type": "code",
   "execution_count": null,
   "metadata": {},
   "outputs": [],
   "source": [
    "for i in range(100):\n",
    "    print(test_data.loc[i,('TITLE')],\" :   \",categories[test_prediction[i]])"
   ]
  },
  {
   "cell_type": "code",
   "execution_count": null,
   "metadata": {},
   "outputs": [],
   "source": []
  }
 ],
 "metadata": {
  "kernelspec": {
   "display_name": "Python 3",
   "language": "python",
   "name": "python3"
  },
  "language_info": {
   "codemirror_mode": {
    "name": "ipython",
    "version": 3
   },
   "file_extension": ".py",
   "mimetype": "text/x-python",
   "name": "python",
   "nbconvert_exporter": "python",
   "pygments_lexer": "ipython3",
   "version": "3.6.5"
  }
 },
 "nbformat": 4,
 "nbformat_minor": 2
}
