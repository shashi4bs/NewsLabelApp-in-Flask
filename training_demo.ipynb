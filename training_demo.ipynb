{
 "cells": [
  {
   "cell_type": "code",
   "execution_count": 1,
   "metadata": {},
   "outputs": [],
   "source": [
    "from lib import *\n",
    "from features import *"
   ]
  },
  {
   "cell_type": "markdown",
   "metadata": {},
   "source": [
    "# importing data"
   ]
  },
  {
   "cell_type": "code",
   "execution_count": 2,
   "metadata": {},
   "outputs": [],
   "source": [
    "data = pd.read_csv('./train_data.csv')"
   ]
  },
  {
   "cell_type": "code",
   "execution_count": 3,
   "metadata": {},
   "outputs": [
    {
     "data": {
      "text/plain": [
       "(84484, 3)"
      ]
     },
     "execution_count": 3,
     "metadata": {},
     "output_type": "execute_result"
    }
   ],
   "source": [
    "data = data.sample(frac=0.4).reset_index(drop=True)\n",
    "size = data.shape\n",
    "size"
   ]
  },
  {
   "cell_type": "markdown",
   "metadata": {},
   "source": [
    "# Data Visualisation\n",
    "#showing data distribution over the four categories of headlines\n",
    "m-Medical\n",
    "e-Entertainment\n",
    "b-Bussiness\n",
    "t-Tech"
   ]
  },
  {
   "cell_type": "code",
   "execution_count": 4,
   "metadata": {
    "scrolled": true
   },
   "outputs": [
    {
     "data": {
      "text/plain": [
       "(array([ 9062.,     0.,     0., 21573.,     0.,     0., 23258.,     0.,\n",
       "            0., 30591.]),\n",
       " array([0. , 0.3, 0.6, 0.9, 1.2, 1.5, 1.8, 2.1, 2.4, 2.7, 3. ]),\n",
       " <a list of 10 Patch objects>)"
      ]
     },
     "execution_count": 4,
     "metadata": {},
     "output_type": "execute_result"
    },
    {
     "data": {
      "image/png": "[encoded data removed]",
      "text/plain": [
       "<Figure size 432x288 with 1 Axes>"
      ]
     },
     "metadata": {},
     "output_type": "display_data"
    }
   ],
   "source": [
    "plt.hist(data.CATEGORY.factorize()[0])"
   ]
  },
  {
   "cell_type": "markdown",
   "metadata": {},
   "source": [
    "# Data  samples"
   ]
  },
  {
   "cell_type": "code",
   "execution_count": 5,
   "metadata": {},
   "outputs": [
    {
     "data": {
      "text/html": [
       "<div>\n",
       "<style scoped>\n",
       "    .dataframe tbody tr th:only-of-type {\n",
       "        vertical-align: middle;\n",
       "    }\n",
       "\n",
       "    .dataframe tbody tr th {\n",
       "        vertical-align: top;\n",
       "    }\n",
       "\n",
       "    .dataframe thead th {\n",
       "        text-align: right;\n",
       "    }\n",
       "</style>\n",
       "<table border=\"1\" class=\"dataframe\">\n",
       "  <thead>\n",
       "    <tr style=\"text-align: right;\">\n",
       "      <th></th>\n",
       "      <th>ID</th>\n",
       "      <th>TITLE</th>\n",
       "      <th>CATEGORY</th>\n",
       "    </tr>\n",
       "  </thead>\n",
       "  <tbody>\n",
       "    <tr>\n",
       "      <th>0</th>\n",
       "      <td>158772</td>\n",
       "      <td>La. company settles Medicare fraud allegations</td>\n",
       "      <td>m</td>\n",
       "    </tr>\n",
       "    <tr>\n",
       "      <th>1</th>\n",
       "      <td>136750</td>\n",
       "      <td>NASA News: Potentially Habitable Earth-Sized P...</td>\n",
       "      <td>t</td>\n",
       "    </tr>\n",
       "    <tr>\n",
       "      <th>2</th>\n",
       "      <td>38819</td>\n",
       "      <td>Gas Prices In Maryland Soar To 6-Month High</td>\n",
       "      <td>t</td>\n",
       "    </tr>\n",
       "    <tr>\n",
       "      <th>3</th>\n",
       "      <td>122188</td>\n",
       "      <td>Samsung Galaxy S5 Hack: Test Hackers Able to G...</td>\n",
       "      <td>t</td>\n",
       "    </tr>\n",
       "    <tr>\n",
       "      <th>4</th>\n",
       "      <td>80702</td>\n",
       "      <td>Greece to get €8.3bn bailout after reforms app...</td>\n",
       "      <td>b</td>\n",
       "    </tr>\n",
       "  </tbody>\n",
       "</table>\n",
       "</div>"
      ],
      "text/plain": [
       "       ID                                              TITLE CATEGORY\n",
       "0  158772     La. company settles Medicare fraud allegations        m\n",
       "1  136750  NASA News: Potentially Habitable Earth-Sized P...        t\n",
       "2   38819        Gas Prices In Maryland Soar To 6-Month High        t\n",
       "3  122188  Samsung Galaxy S5 Hack: Test Hackers Able to G...        t\n",
       "4   80702  Greece to get €8.3bn bailout after reforms app...        b"
      ]
     },
     "execution_count": 5,
     "metadata": {},
     "output_type": "execute_result"
    }
   ],
   "source": [
    "data.head()"
   ]
  },
  {
   "cell_type": "code",
   "execution_count": 6,
   "metadata": {},
   "outputs": [],
   "source": [
    "for line,i in zip(data['TITLE'],range(data['TITLE'].shape[0])):\n",
    "    data.loc[i,('TITLE')] = normalise_text(line)"
   ]
  },
  {
   "cell_type": "code",
   "execution_count": 7,
   "metadata": {},
   "outputs": [
    {
     "data": {
      "text/html": [
       "<div>\n",
       "<style scoped>\n",
       "    .dataframe tbody tr th:only-of-type {\n",
       "        vertical-align: middle;\n",
       "    }\n",
       "\n",
       "    .dataframe tbody tr th {\n",
       "        vertical-align: top;\n",
       "    }\n",
       "\n",
       "    .dataframe thead th {\n",
       "        text-align: right;\n",
       "    }\n",
       "</style>\n",
       "<table border=\"1\" class=\"dataframe\">\n",
       "  <thead>\n",
       "    <tr style=\"text-align: right;\">\n",
       "      <th></th>\n",
       "      <th>ID</th>\n",
       "      <th>TITLE</th>\n",
       "      <th>CATEGORY</th>\n",
       "    </tr>\n",
       "  </thead>\n",
       "  <tbody>\n",
       "    <tr>\n",
       "      <th>0</th>\n",
       "      <td>158772</td>\n",
       "      <td>la company settles medicare fraud allegations</td>\n",
       "      <td>m</td>\n",
       "    </tr>\n",
       "    <tr>\n",
       "      <th>1</th>\n",
       "      <td>136750</td>\n",
       "      <td>nasa news potentially habitable earthsized pla...</td>\n",
       "      <td>t</td>\n",
       "    </tr>\n",
       "    <tr>\n",
       "      <th>2</th>\n",
       "      <td>38819</td>\n",
       "      <td>gas prices maryland soar 6month high</td>\n",
       "      <td>t</td>\n",
       "    </tr>\n",
       "    <tr>\n",
       "      <th>3</th>\n",
       "      <td>122188</td>\n",
       "      <td>samsung galaxy s5 hack test hackers able gain ...</td>\n",
       "      <td>t</td>\n",
       "    </tr>\n",
       "    <tr>\n",
       "      <th>4</th>\n",
       "      <td>80702</td>\n",
       "      <td>greece get 83bn bailout reforms approved</td>\n",
       "      <td>b</td>\n",
       "    </tr>\n",
       "  </tbody>\n",
       "</table>\n",
       "</div>"
      ],
      "text/plain": [
       "       ID                                              TITLE CATEGORY\n",
       "0  158772      la company settles medicare fraud allegations        m\n",
       "1  136750  nasa news potentially habitable earthsized pla...        t\n",
       "2   38819               gas prices maryland soar 6month high        t\n",
       "3  122188  samsung galaxy s5 hack test hackers able gain ...        t\n",
       "4   80702           greece get 83bn bailout reforms approved        b"
      ]
     },
     "execution_count": 7,
     "metadata": {},
     "output_type": "execute_result"
    }
   ],
   "source": [
    "data.head()"
   ]
  },
  {
   "cell_type": "code",
   "execution_count": null,
   "metadata": {},
   "outputs": [],
   "source": []
  },
  {
   "cell_type": "code",
   "execution_count": 8,
   "metadata": {},
   "outputs": [],
   "source": [
    "cv_matrix, cv = countVectorizer(data)"
   ]
  },
  {
   "cell_type": "code",
   "execution_count": 9,
   "metadata": {},
   "outputs": [],
   "source": [
    "tv_matrix, tv = tfidfTransformer(cv_matrix)"
   ]
  },
  {
   "cell_type": "code",
   "execution_count": 10,
   "metadata": {},
   "outputs": [],
   "source": [
    "categories = data.CATEGORY.factorize()[0]"
   ]
  },
  {
   "cell_type": "code",
   "execution_count": 11,
   "metadata": {},
   "outputs": [],
   "source": [
    "\n",
    "training_data, testing_data, training_op, test_op = split_data(tv_matrix,categories)"
   ]
  },
  {
   "cell_type": "code",
   "execution_count": null,
   "metadata": {},
   "outputs": [],
   "source": []
  },
  {
   "cell_type": "raw",
   "metadata": {},
   "source": [
    "svm = SVC(kernel='sigmoid',gamma='auto',probability=True)"
   ]
  },
  {
   "cell_type": "code",
   "execution_count": 12,
   "metadata": {},
   "outputs": [],
   "source": [
    "rfc_model = RandomForestClassifier(min_samples_split=20,criterion='entropy',random_state=10)"
   ]
  },
  {
   "cell_type": "code",
   "execution_count": 13,
   "metadata": {},
   "outputs": [
    {
     "data": {
      "text/plain": [
       "RandomForestClassifier(bootstrap=True, class_weight=None, criterion='entropy',\n",
       "            max_depth=None, max_features='auto', max_leaf_nodes=None,\n",
       "            min_impurity_decrease=0.0, min_impurity_split=None,\n",
       "            min_samples_leaf=1, min_samples_split=20,\n",
       "            min_weight_fraction_leaf=0.0, n_estimators=10, n_jobs=1,\n",
       "            oob_score=False, random_state=10, verbose=0, warm_start=False)"
      ]
     },
     "execution_count": 13,
     "metadata": {},
     "output_type": "execute_result"
    }
   ],
   "source": [
    "rfc_model.fit(training_data,training_op)"
   ]
  },
  {
   "cell_type": "code",
   "execution_count": 14,
   "metadata": {},
   "outputs": [
    {
     "data": {
      "text/plain": [
       "0.9740778552088419"
      ]
     },
     "execution_count": 14,
     "metadata": {},
     "output_type": "execute_result"
    }
   ],
   "source": [
    "rfc_model.score(training_data,training_op)"
   ]
  },
  {
   "cell_type": "code",
   "execution_count": 15,
   "metadata": {},
   "outputs": [
    {
     "data": {
      "text/plain": [
       "0.8790909628928212"
      ]
     },
     "execution_count": 15,
     "metadata": {},
     "output_type": "execute_result"
    }
   ],
   "source": [
    "rfc_model.score(testing_data,test_op)"
   ]
  },
  {
   "cell_type": "code",
   "execution_count": 16,
   "metadata": {},
   "outputs": [],
   "source": [
    "#url = \"http://www.bbc.com/\"\n",
    "url = \"https://in.yahoo.com/?p=us\"\n",
    "headlines = extract_hedlines(url)"
   ]
  },
  {
   "cell_type": "code",
   "execution_count": 17,
   "metadata": {},
   "outputs": [],
   "source": [
    "for lines, i in zip(headlines, range(len(headlines))):\n",
    "    headlines[i] = normalise_text(lines)"
   ]
  },
  {
   "cell_type": "code",
   "execution_count": 18,
   "metadata": {},
   "outputs": [],
   "source": [
    "testing_headlines = pd.DataFrame({\"TITLE\":headlines})"
   ]
  },
  {
   "cell_type": "code",
   "execution_count": null,
   "metadata": {},
   "outputs": [],
   "source": []
  },
  {
   "cell_type": "code",
   "execution_count": 19,
   "metadata": {},
   "outputs": [],
   "source": [
    "testing_cv_matrix = cv.transform(testing_headlines['TITLE'])"
   ]
  },
  {
   "cell_type": "code",
   "execution_count": 20,
   "metadata": {},
   "outputs": [],
   "source": [
    "testing_cv_matrix = testing_cv_matrix.toarray()\n"
   ]
  },
  {
   "cell_type": "code",
   "execution_count": 21,
   "metadata": {},
   "outputs": [],
   "source": [
    "transformed_testing_data = tv.transform(testing_cv_matrix) "
   ]
  },
  {
   "cell_type": "code",
   "execution_count": 22,
   "metadata": {
    "scrolled": true
   },
   "outputs": [],
   "source": [
    "prediction = rfc_model.predict(transformed_testing_data)"
   ]
  },
  {
   "cell_type": "code",
   "execution_count": 23,
   "metadata": {},
   "outputs": [
    {
     "name": "stdout",
     "output_type": "stream",
     "text": [
      "nita mukesh ambani hosted ganpati celebrations antilla mumbai   e\n",
      "know aishwarya rai bachchan avid follower lord ganesha daughter aaradhya bachchan minutes ago mother-daughter duo seen visiting gsb mandal seek blessing lord ganesha .   e\n",
      "talk favourite btown jodi 's one name , always pops mind 're none shahrukh khan gauri khan . gauri shahrukh marriage goals like every married couple , also   e\n",
      "bigg boss known controversies season 12 reality show days away grand premiere ex-contestants revealed although show scripted , well   e\n",
      "priyanka chopra reveals left salman khans bharat . ’ heard much priyanka chopra walked big salman khan starrer bharat . know real reason .   e\n",
      "incredible set photographs iceland taken sky left viewers confusing landscape abstract art florian ledoux 28 , captured rare bird ’ s-eye views hills , water craters iceland . “ people often wonder photographs first , ” said , “ say looks totally abstract , like painting. ” ( caters news ) see news-related photo galleries , follow us yahoo news photos twitter tumblr .   e\n",
      "sumeet vyas amp ekta ’ wedding ; tiger & amp ; disha friends & amp ; stories .   e\n",
      "year india already lost six eight overseas tests 1-4 loss england reflection shortcomings virat kohli-led india . even though , 5-match series saw india battle hard come close , batting serious let . regard , chief selector msk prasad served warning non-performers . 's .   b\n",
      "ganapati darshan panicked aishwarya rai bachchan tries protect aaradhya crowd around   e\n",
      "gauri reacted shahrukh khanampapos ; controversies : & amp ; apos ; dependent , even emotionally   e\n",
      "arshi khan reveals shocking detail show ahead bigg boss 12 premiere   e\n",
      "priyanka chopra reveals left salman khans bharat   e\n",
      "birdseye abstraction : iceland viewed   e\n",
      "quicke anushkavirat ’ airport hug ; nick jonas ’ b ’ day peecee   e\n",
      "msk prasad serves warning nonperformers tests   m\n"
     ]
    }
   ],
   "source": [
    "for i in range(testing_headlines['TITLE'].shape[0]):\n",
    "    if(len(testing_headlines.TITLE[i])>20):\n",
    "        print(testing_headlines.TITLE[i],\" \",data.CATEGORY.factorize()[1][prediction[i]])"
   ]
  },
  {
   "cell_type": "code",
   "execution_count": null,
   "metadata": {},
   "outputs": [],
   "source": []
  },
  {
   "cell_type": "code",
   "execution_count": null,
   "metadata": {},
   "outputs": [],
   "source": []
  }
 ],
 "metadata": {
  "kernelspec": {
   "display_name": "Python 3",
   "language": "python",
   "name": "python3"
  },
  "language_info": {
   "codemirror_mode": {
    "name": "ipython",
    "version": 3
   },
   "file_extension": ".py",
   "mimetype": "text/x-python",
   "name": "python",
   "nbconvert_exporter": "python",
   "pygments_lexer": "ipython3",
   "version": "3.6.5"
  }
 },
 "nbformat": 4,
 "nbformat_minor": 2
}
