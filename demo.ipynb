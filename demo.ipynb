{
 "cells": [
  {
   "cell_type": "code",
   "execution_count": 1,
   "metadata": {},
   "outputs": [
    {
     "name": "stdout",
     "output_type": "stream",
     "text": [
      "[nltk_data] Downloading package punkt to /home/shashi/nltk_data...\n",
      "[nltk_data]   Package punkt is already up-to-date!\n",
      "[nltk_data] Downloading package stopwords to /home/shashi/nltk_data...\n",
      "[nltk_data]   Package stopwords is already up-to-date!\n"
     ]
    }
   ],
   "source": [
    "from lib import *\n",
    "from features import *"
   ]
  },
  {
   "cell_type": "code",
   "execution_count": 2,
   "metadata": {},
   "outputs": [],
   "source": [
    "url = [\"https://www.bbc.co.uk/\",\"https://in.yahoo.com/?p=us\",'https://gadgets.ndtv.com/news']"
   ]
  },
  {
   "cell_type": "code",
   "execution_count": 3,
   "metadata": {},
   "outputs": [],
   "source": [
    "categories = ['Medical','Entertainment','Business','Tech']"
   ]
  },
  {
   "cell_type": "code",
   "execution_count": 4,
   "metadata": {},
   "outputs": [],
   "source": [
    "headlines = []\n",
    "for i in range(len(url)):\n",
    "    headlines.append(extract_hedlines(url[i]))"
   ]
  },
  {
   "cell_type": "code",
   "execution_count": null,
   "metadata": {},
   "outputs": [],
   "source": []
  },
  {
   "cell_type": "code",
   "execution_count": 5,
   "metadata": {},
   "outputs": [],
   "source": [
    "#considering it to be a specific page for an article \n",
    "for i in range(len(headlines)):\n",
    "    if(len(headlines[i][0])>25):\n",
    "        headlines[i] = headlines[i][0]\n",
    "    else:\n",
    "        headlines[i] = headlines[i][1:]"
   ]
  },
  {
   "cell_type": "code",
   "execution_count": 6,
   "metadata": {},
   "outputs": [],
   "source": [
    "for i in range(len(headlines)):\n",
    "    for lines, j in zip(headlines[i], range(len(headlines[i]))):\n",
    "        headlines[i][j] = normalise_text(lines)"
   ]
  },
  {
   "cell_type": "markdown",
   "metadata": {},
   "source": [
    "# converting lists of headlines to dataframe"
   ]
  },
  {
   "cell_type": "code",
   "execution_count": 7,
   "metadata": {},
   "outputs": [],
   "source": [
    "testing_headlines ={}\n",
    "for i in range(len(headlines)):\n",
    "    testing_headlines[url[i]] = pd.DataFrame({\"TITLE\":headlines[i]})"
   ]
  },
  {
   "cell_type": "code",
   "execution_count": 8,
   "metadata": {},
   "outputs": [
    {
     "data": {
      "text/plain": [
       "dict_keys(['https://www.bbc.co.uk/', 'https://in.yahoo.com/?p=us', 'https://gadgets.ndtv.com/news'])"
      ]
     },
     "execution_count": 8,
     "metadata": {},
     "output_type": "execute_result"
    }
   ],
   "source": [
    "testing_headlines.keys()"
   ]
  },
  {
   "cell_type": "markdown",
   "metadata": {},
   "source": [
    "# load trained model, count_vectorizer, tf-idf"
   ]
  },
  {
   "cell_type": "code",
   "execution_count": 9,
   "metadata": {},
   "outputs": [],
   "source": [
    "model = pickle.load(open('rfc_model.pkl', 'rb'))\n",
    "cv = pickle.load(open('cv.pkl','rb'))\n",
    "tv = pickle.load(open('tv.pkl','rb'))"
   ]
  },
  {
   "cell_type": "code",
   "execution_count": 10,
   "metadata": {},
   "outputs": [],
   "source": [
    "cv_matrix = {}\n",
    "tv_matrix = {}\n",
    "for link in testing_headlines.keys():\n",
    "    cv_matrix[link] = cv.transform(testing_headlines[link]['TITLE']).toarray()\n",
    "    tv_matrix[link] = tv.transform(cv_matrix[link]).toarray()"
   ]
  },
  {
   "cell_type": "code",
   "execution_count": 11,
   "metadata": {},
   "outputs": [],
   "source": [
    "prediction = {}\n",
    "for link in testing_headlines.keys():\n",
    "    prediction[link] = model.predict(tv_matrix[link])"
   ]
  },
  {
   "cell_type": "code",
   "execution_count": 14,
   "metadata": {},
   "outputs": [
    {
     "name": "stdout",
     "output_type": "stream",
     "text": [
      "https://www.bbc.co.uk/\n",
      "sign get latest news new series doctor  :    Entertainment\n",
      "british citizen kate ashby finds shadow rwandan past impossible escape  :    Entertainment\n",
      "stacey dooley meets victims kneecappings tries talk behind attacks  :    Medical\n",
      "troubled war veteran assigned protect controversial politician  :    Medical\n",
      "facing flatlining sex life joy alan take desperate measures  :    Entertainment\n",
      "tess daly claudia winkleman launch new series celebrity dance contest  :    Tech\n",
      "james 19 job gcses simple choice make - work prison .  :    Entertainment\n",
      "celebrity chat tunes cheekiness vadda question : hot cold ? one ?  :    Entertainment\n",
      "sco performs haydns creation 2018 edinburgh interational festival  :    Entertainment\n",
      "bill nighy anna caldermarshall star al kennedys comedy love later life .  :    Entertainment\n",
      "beyonce notsohumble brag birthday .  :    Entertainment\n",
      "writer polly coles reads piazza first essay life italys public spaces .  :    Entertainment\n",
      "remember facts easily others slip away  :    Entertainment\n",
      "england search five wickets win india  :    Medical\n",
      "mark carney stay bank england 2020  :    Medical\n",
      "private school criticised buy dad jag ad  :    Medical\n",
      "carney stay bank england 2020  :    Medical\n",
      "johnson backs nothing fear brexit plan  :    Entertainment\n",
      "chaos scene westminster attack  :    Entertainment\n",
      "india continue frustrate england clips radio & amp ; text  :    Medical\n",
      "watch amp follow : scottish fa announce hampden purchase  :    Entertainment\n",
      "dont want see khan fight '  :    Entertainment\n",
      "portraits prove dogs look like owners  :    Tech\n",
      "seven times music rivalries got personal tour  :    Entertainment\n",
      "six weirdest films well never get see  :    Entertainment\n",
      "stacey solomons hyde park picks  :    Entertainment\n",
      "stacey solomons hyde park picks  :    Entertainment\n",
      "kylies complex dance routine gets hyde park going  :    Entertainment\n",
      "saints wow crowd anthemic 90s gem  :    Entertainment\n",
      "boyzones biggest ballad brings surprise female guest  :    Entertainment\n",
      "40yearold murder mystery still resonates today  :    Tech\n",
      "student emails 247 women called nicole find girl met  :    Entertainment\n",
      "dont want die knowing happened son '  :    Entertainment\n",
      "bbc pay reveal factor evans ' exit  :    Medical\n",
      "vanished chinese star socially responsible  :    Entertainment\n",
      "nicki minaj mortified cardi b scuffle  :    Entertainment\n",
      "black earth rising next bodyguard  :    Tech\n",
      "celebrity big brother winner named controversial series  :    Entertainment\n",
      "roxanne pallett leaves celebrity island panic  :    Entertainment\n",
      "five intriguing tango facts didnt tell strictly  :    Entertainment\n",
      "david bowies life mars youve never heard  :    Tech\n",
      "80s dance classic orchestral proms twist  :    Entertainment\n",
      "rented homes regular test like mot  :    Medical\n",
      "kirstie allsopp smashed kids ipads  :    Entertainment\n",
      "would bigger house make happier  :    Medical\n",
      "bitesizes 20th anniversary  :    Entertainment\n",
      "bitesizes 20th anniversary  :    Entertainment\n",
      "five fun facts favourite school subjects  :    Business\n",
      "simple hacks help settle new school  :    Business\n",
      "retro revision tips 1998 eastenders cast  :    Entertainment\n",
      "furore racist serena williams cartoon  :    Entertainment\n",
      "pupils struggling maths may dyscalculia  :    Medical\n",
      "enough done tackle illegal traveller sites  :    Medical\n",
      "man drops gun trousers failed shop robbery  :    Entertainment\n",
      "new el nio event predicted end 2018  :    Tech\n",
      "nike sales defy kaepernick ad campaign backlash  :    Medical\n",
      "amir khan needs protecting  :    Entertainment\n",
      "english keeper revels new life european finalists  :    Medical\n",
      "mighty fallen : moyes mocked train ride  :    Entertainment\n",
      "cant help seeing faces objects  :    Business\n",
      "serious aircraft nearmisses ' doubled  :    Entertainment\n",
      "redford swansong gets toronto ovation  :    Entertainment\n",
      "celebrity postcard art goes secret sale school  :    Entertainment\n",
      "aboriginal artist found international fame  :    Entertainment\n",
      "good charlotte want album make people ask questions  :    Entertainment\n",
      "jewish festival rosh hashanah  :    Entertainment\n",
      "man arrested breakfast video goes viral  :    Entertainment\n",
      "12 quick comforting noodle recipes  :    Entertainment\n",
      "delicious veggie curry recipes warm autumn  :    Entertainment\n",
      "nine healthy slow cooker recipes  :    Business\n",
      "celebrating 25 years music steve lamacq  :    Entertainment\n",
      "eight biggest pop star feuds  :    Entertainment\n",
      "olly alexander reveals story behind favourite track  :    Entertainment\n",
      "nine wildlife images thatll stop tracks  :    Entertainment\n",
      "lawro meets viewer alerted cancer scare  :    Business\n",
      "wales worlds steepest street ' ?  :    Tech\n",
      "could tell baloo yogi bear  :    Business\n",
      "quiz well know 90s pop groups  :    Entertainment\n",
      "read approach external linking  :    Entertainment\n",
      "https://in.yahoo.com/?p=us\n",
      "ballbyball action day 5 fifth final test oval .  :    Entertainment\n",
      "contrary rss statement mythology historical texts show ancient indians acknowledge homosexuality .  :    Entertainment\n",
      "aaradhya bachchans latest cute outfit wore wift event , mom aishwarya honoured meryl streep award , quite similar deepika padukone 's . yes , outfits designed duo gauri & amp ; nainika .  :    Entertainment\n",
      "yeh hai mohabbatein actor sumeet sachdev wife amrita gujral recently announced unfortunate news miscarriage lost baby boy talking spotboye , actor spoke detail conditions led amrita 's miscarriage  :    Entertainment\n",
      "recently whole trio kareena kapoor saif ali khan adorable little taimur ali khan seen relaxing vacationing maldives , along soha ali khan ’ family . however , seems like former couple ready give us another surprise soon ! well , recently kareena amrita arora , [ … ] post 2 years , kareena kapoor saif ali khan confirmed second child , post taimur ali khan ! appeared first popdiaries .  :    Entertainment\n",
      "shweta tiwari reacts ekta kapoors claim offering prernas role daughter . shweta aka original prerna ekta kapoor 's kasauti zindagi kay recently news confirmed daughter palak approached reboot version . soon , ekta denied truth reports . # kasautizindgaikay # shwetatiwari # ektakapoor # palaktiwari  :    Entertainment\n",
      "following suggestion finance ministry labour ministry already started working proposed bifurcation epfo  :    Entertainment\n",
      "lauren mahon learned hard way isnt true diagnosed breast cancer aged 31  :    Business\n",
      "indian culture recognise homosexuality let us count ways  :    Medical\n",
      "aaradhya bachchanampapos ; latest tulle dress strongly resembles deepika padukone & amp ; apos ; gown  :    Entertainment\n",
      "sumeet sachdev amp ; apos ; amrita & amp ; buried baby boy & amp ; apos ; , actor blames employer & amp ; apos ; extra-marital affair !  :    Entertainment\n",
      "2 years kareena kapoor saif ali khan confirmed second child post taimur ali khan !  :    Entertainment\n",
      "kasauti zindagi kay shweta tiwari breaks silence ekta kapoors claim palak 's role  :    Entertainment\n",
      "narendra modi govt could dissolve epfoampapos ; regulatory role , mulls separate entity avoid conflict interest  :    Tech\n",
      "thought couldnamp ; apos ; get breast cancer small boobs ''  :    Business\n",
      "https://gadgets.ndtv.com/news\n",
      "vivo y97 waterdropshaped notch dual rear cameras launched : price , specifications  :    Medical\n",
      "nokia 7 plus receives new android pie developer preview ahead stable update  :    Tech\n",
      "apples september 12 launch event new iphone models , apple watch ipad pro , everything else expected  :    Tech\n",
      "google cloud ai chief feifei li replaced andrew moore company announces  :    Tech\n",
      "nasa explains hazards manned mission mars  :    Tech\n",
      "pinterest 250 million monthly users  :    Tech\n",
      "poco f1 users report bleeding issues display panel  :    Tech\n",
      "twitter expands premium video content asia pacific  :    Entertainment\n",
      "airtel unveils rs 289 recharge 1gb data unlimited voice calls take idea , jio  :    Entertainment\n",
      "xiaomi mi 8 youth launch expected september 19 event  :    Tech\n",
      "pubg mobile 080 update brings new sanhok map , anti-cheating measures ,  :    Tech\n",
      "blaupunkt launches led tvs india aibased launcher , voice-recognition smart remote , miracast support  :    Entertainment\n",
      "samsung opens largest mobile experience centre world , bengaluru  :    Tech\n",
      "facebook sets release date catherine zetajones watch series queen america  :    Tech\n",
      "lenovo legion y730 y530 laptops t730 , t530 towers , c730 cube , y25f-10 gaming monitor launched india  :    Tech\n",
      "final fantasy crystal chronicles remastered version announced ps4 nintendo switch  :    Tech\n",
      "samsung galaxy s10 tipped sport qualcomms ultrasonic fingerprint scanner w2019 flip-phone said sport snapdragon 845 soc  :    Tech\n",
      "aadhaar software hacked database compromised widelycirculated patch : report  :    Tech\n",
      "xiaomi redmi y2s miui 10 global stable rom update rolling india  :    Entertainment\n",
      "freshmenu 2016 data breach exposed records 110000 users company decided disclose : report  :    Tech\n"
     ]
    }
   ],
   "source": [
    "for link in testing_headlines.keys():\n",
    "    print(link)\n",
    "    for i in range(len(testing_headlines[link])):\n",
    "        if(len(testing_headlines[link]['TITLE'][i])>25):\n",
    "            print(testing_headlines[link]['TITLE'][i],\" :   \",categories[prediction[link][i]])"
   ]
  },
  {
   "cell_type": "code",
   "execution_count": null,
   "metadata": {},
   "outputs": [],
   "source": []
  },
  {
   "cell_type": "code",
   "execution_count": null,
   "metadata": {},
   "outputs": [],
   "source": []
  },
  {
   "cell_type": "code",
   "execution_count": null,
   "metadata": {},
   "outputs": [],
   "source": []
  },
  {
   "cell_type": "code",
   "execution_count": null,
   "metadata": {},
   "outputs": [],
   "source": []
  },
  {
   "cell_type": "code",
   "execution_count": null,
   "metadata": {},
   "outputs": [],
   "source": []
  },
  {
   "cell_type": "code",
   "execution_count": null,
   "metadata": {},
   "outputs": [],
   "source": []
  },
  {
   "cell_type": "code",
   "execution_count": null,
   "metadata": {},
   "outputs": [],
   "source": []
  },
  {
   "cell_type": "code",
   "execution_count": null,
   "metadata": {},
   "outputs": [],
   "source": []
  },
  {
   "cell_type": "code",
   "execution_count": null,
   "metadata": {},
   "outputs": [],
   "source": []
  },
  {
   "cell_type": "code",
   "execution_count": null,
   "metadata": {},
   "outputs": [],
   "source": []
  },
  {
   "cell_type": "code",
   "execution_count": null,
   "metadata": {},
   "outputs": [],
   "source": []
  },
  {
   "cell_type": "code",
   "execution_count": null,
   "metadata": {},
   "outputs": [],
   "source": []
  },
  {
   "cell_type": "code",
   "execution_count": null,
   "metadata": {},
   "outputs": [],
   "source": []
  },
  {
   "cell_type": "code",
   "execution_count": null,
   "metadata": {},
   "outputs": [],
   "source": []
  },
  {
   "cell_type": "code",
   "execution_count": null,
   "metadata": {},
   "outputs": [],
   "source": []
  },
  {
   "cell_type": "code",
   "execution_count": null,
   "metadata": {},
   "outputs": [],
   "source": []
  },
  {
   "cell_type": "code",
   "execution_count": null,
   "metadata": {},
   "outputs": [],
   "source": []
  },
  {
   "cell_type": "code",
   "execution_count": null,
   "metadata": {},
   "outputs": [],
   "source": []
  },
  {
   "cell_type": "code",
   "execution_count": null,
   "metadata": {},
   "outputs": [],
   "source": []
  },
  {
   "cell_type": "code",
   "execution_count": null,
   "metadata": {},
   "outputs": [],
   "source": []
  },
  {
   "cell_type": "code",
   "execution_count": null,
   "metadata": {},
   "outputs": [],
   "source": []
  }
 ],
 "metadata": {
  "kernelspec": {
   "display_name": "Python 3",
   "language": "python",
   "name": "python3"
  },
  "language_info": {
   "codemirror_mode": {
    "name": "ipython",
    "version": 3
   },
   "file_extension": ".py",
   "mimetype": "text/x-python",
   "name": "python",
   "nbconvert_exporter": "python",
   "pygments_lexer": "ipython3",
   "version": "3.6.5"
  }
 },
 "nbformat": 4,
 "nbformat_minor": 2
}
